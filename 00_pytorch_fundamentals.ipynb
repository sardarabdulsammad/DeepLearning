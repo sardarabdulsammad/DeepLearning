{
  "nbformat": 4,
  "nbformat_minor": 0,
  "metadata": {
    "colab": {
      "provenance": [],
      "authorship_tag": "ABX9TyNdARnGS1QagYo8oeDCY70U",
      "include_colab_link": true
    },
    "kernelspec": {
      "name": "python3",
      "display_name": "Python 3"
    },
    "language_info": {
      "name": "python"
    }
  },
  "cells": [
    {
      "cell_type": "markdown",
      "metadata": {
        "id": "view-in-github",
        "colab_type": "text"
      },
      "source": [
        "<a href=\"https://colab.research.google.com/github/sardarabdulsammad/DeepLearning/blob/main/00_pytorch_fundamentals.ipynb\" target=\"_parent\"><img src=\"https://colab.research.google.com/assets/colab-badge.svg\" alt=\"Open In Colab\"/></a>"
      ]
    },
    {
      "cell_type": "code",
      "execution_count": 8,
      "metadata": {
        "id": "A2tzYruYMOJt",
        "colab": {
          "base_uri": "https://localhost:8080/"
        },
        "outputId": "37de61d8-4ea7-46bb-cde0-2696ecfccda4"
      },
      "outputs": [
        {
          "output_type": "stream",
          "name": "stdout",
          "text": [
            "2.6.0+cu124\n"
          ]
        }
      ],
      "source": [
        "import torch\n",
        "import numpy as np\n",
        "import pandas as pd\n",
        "print(torch.__version__)"
      ]
    },
    {
      "cell_type": "markdown",
      "source": [
        "## tensors Introduction\n",
        "\n",
        "### Creating Tensors"
      ],
      "metadata": {
        "id": "4K7CCSlrVRY3"
      }
    },
    {
      "cell_type": "code",
      "source": [
        "#Starting from zero DIM tensor\n",
        "#Scalar\n",
        "scalar = torch.tensor(7)\n",
        "scalar.ndim\n",
        "scalar.item()\n"
      ],
      "metadata": {
        "colab": {
          "base_uri": "https://localhost:8080/"
        },
        "id": "U1CTfQDjqfiz",
        "outputId": "d8711047-7363-4caa-963d-4f4852a810f4"
      },
      "execution_count": 9,
      "outputs": [
        {
          "output_type": "execute_result",
          "data": {
            "text/plain": [
              "7"
            ]
          },
          "metadata": {},
          "execution_count": 9
        }
      ]
    },
    {
      "cell_type": "code",
      "source": [
        "#vector\n",
        "vector = torch.tensor([7,7])\n",
        "vector.dim\n",
        "vector.shape"
      ],
      "metadata": {
        "colab": {
          "base_uri": "https://localhost:8080/"
        },
        "id": "_d9Ag2jGrK1k",
        "outputId": "d4202c9f-9cfa-4c5b-901f-99b89d3d40ef"
      },
      "execution_count": 10,
      "outputs": [
        {
          "output_type": "execute_result",
          "data": {
            "text/plain": [
              "torch.Size([2])"
            ]
          },
          "metadata": {},
          "execution_count": 10
        }
      ]
    },
    {
      "cell_type": "code",
      "source": [
        "vector.shape"
      ],
      "metadata": {
        "colab": {
          "base_uri": "https://localhost:8080/"
        },
        "id": "TcdMVfO1D4uG",
        "outputId": "9b571a27-ce1d-491b-b5b3-15856e13f70d"
      },
      "execution_count": 11,
      "outputs": [
        {
          "output_type": "execute_result",
          "data": {
            "text/plain": [
              "torch.Size([2])"
            ]
          },
          "metadata": {},
          "execution_count": 11
        }
      ]
    },
    {
      "cell_type": "code",
      "source": [
        "matrix = torch.tensor([[7,8],[9,10]])\n",
        "matrix.ndim"
      ],
      "metadata": {
        "colab": {
          "base_uri": "https://localhost:8080/"
        },
        "id": "hZUW7QivD7Qx",
        "outputId": "34ecdfc1-88ef-45ff-af61-a8160da99c6c"
      },
      "execution_count": 12,
      "outputs": [
        {
          "output_type": "execute_result",
          "data": {
            "text/plain": [
              "2"
            ]
          },
          "metadata": {},
          "execution_count": 12
        }
      ]
    },
    {
      "cell_type": "code",
      "source": [
        "matrix = torch.tensor([[3,3],[4,4]])"
      ],
      "metadata": {
        "id": "U_1uCJYmGRsA"
      },
      "execution_count": 13,
      "outputs": []
    },
    {
      "cell_type": "code",
      "source": [
        "matrix.shape"
      ],
      "metadata": {
        "id": "Cg2UPNIhErVg",
        "outputId": "dbd516bb-9d7c-4eed-f3c5-0e2fcfef172e",
        "colab": {
          "base_uri": "https://localhost:8080/"
        }
      },
      "execution_count": 14,
      "outputs": [
        {
          "output_type": "execute_result",
          "data": {
            "text/plain": [
              "torch.Size([2, 2])"
            ]
          },
          "metadata": {},
          "execution_count": 14
        }
      ]
    },
    {
      "cell_type": "code",
      "source": [
        "matrix.ndim"
      ],
      "metadata": {
        "colab": {
          "base_uri": "https://localhost:8080/"
        },
        "id": "AHYQ5LmJGy-v",
        "outputId": "72cfb570-b226-4ca4-a7a4-02acb4ecf78f"
      },
      "execution_count": 15,
      "outputs": [
        {
          "output_type": "execute_result",
          "data": {
            "text/plain": [
              "2"
            ]
          },
          "metadata": {},
          "execution_count": 15
        }
      ]
    },
    {
      "cell_type": "code",
      "source": [
        "tensor = torch.tensor([[[1,2],[5,6]],[[3,4],[5,6,]]])"
      ],
      "metadata": {
        "id": "e2eMjeniHPBQ"
      },
      "execution_count": 16,
      "outputs": []
    },
    {
      "cell_type": "code",
      "source": [
        "tensor.shape"
      ],
      "metadata": {
        "colab": {
          "base_uri": "https://localhost:8080/"
        },
        "id": "nKVGenpuHcaE",
        "outputId": "2cb617ad-f1a8-45ff-94fc-2d4efa5d5cf3"
      },
      "execution_count": 17,
      "outputs": [
        {
          "output_type": "execute_result",
          "data": {
            "text/plain": [
              "torch.Size([2, 2, 2])"
            ]
          },
          "metadata": {},
          "execution_count": 17
        }
      ]
    },
    {
      "cell_type": "markdown",
      "source": [
        "\n",
        "Why shape is like that,..?\n",
        "- The Tensors starts from zeroth index\n",
        "\n",
        "\n",
        "![image.png](data:image/png;base64,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)\n",
        "-"
      ],
      "metadata": {
        "id": "w28B22TTIe7k"
      }
    },
    {
      "cell_type": "markdown",
      "source": [
        "##Random Tensors\n",
        "\n",
        "The Random tensors are important because the way neural network run is that they start with tensors full of random numbers and then adjust those random numbers to better represent the data\n",
        "\n",
        "Start with Random Number -> look at data -> update random numbers -> look at data -> update random numbers"
      ],
      "metadata": {
        "id": "4vAkQd-yEtbY"
      }
    },
    {
      "cell_type": "code",
      "source": [
        "#create random tensor\n",
        "random_tensor = torch.rand(2,2,2)\n"
      ],
      "metadata": {
        "id": "2qYsjkbIzBgz"
      },
      "execution_count": 18,
      "outputs": []
    },
    {
      "cell_type": "code",
      "source": [
        "random_tensor"
      ],
      "metadata": {
        "colab": {
          "base_uri": "https://localhost:8080/"
        },
        "id": "OdpXcyt5zXfQ",
        "outputId": "6764c151-ff0b-4597-cf50-b2e5607a9b1e"
      },
      "execution_count": 19,
      "outputs": [
        {
          "output_type": "execute_result",
          "data": {
            "text/plain": [
              "tensor([[[0.7678, 0.1948],\n",
              "         [0.7770, 0.1593]],\n",
              "\n",
              "        [[0.5407, 0.6857],\n",
              "         [0.2779, 0.6140]]])"
            ]
          },
          "metadata": {},
          "execution_count": 19
        }
      ]
    },
    {
      "cell_type": "code",
      "source": [
        "random_tensor.shape"
      ],
      "metadata": {
        "colab": {
          "base_uri": "https://localhost:8080/"
        },
        "id": "IDA32GGVzbKl",
        "outputId": "dba0d781-db7b-44f6-ddcb-f487004f56b2"
      },
      "execution_count": 20,
      "outputs": [
        {
          "output_type": "execute_result",
          "data": {
            "text/plain": [
              "torch.Size([2, 2, 2])"
            ]
          },
          "metadata": {},
          "execution_count": 20
        }
      ]
    },
    {
      "cell_type": "markdown",
      "source": [
        "Enconding is representation, Following is the way the image is represented in form of tensors.\n",
        "\n",
        "what pytorch actually does is it generates random tensors, look at the data and change the values according to that data to better represent it"
      ],
      "metadata": {
        "id": "T82UyZD_PZTF"
      }
    },
    {
      "cell_type": "code",
      "source": [
        " #Random Tensor With shape of an image\n",
        " # encoding is representing, and common format to represent image with tensors is\n",
        " random_image = torch.rand(size = (224,224,3 )) #height, width, Colour Channel (R,G,B)"
      ],
      "metadata": {
        "id": "hTzTbaQWzdNA"
      },
      "execution_count": 21,
      "outputs": []
    },
    {
      "cell_type": "code",
      "source": [
        " random_image.shape , random_image.ndim"
      ],
      "metadata": {
        "colab": {
          "base_uri": "https://localhost:8080/"
        },
        "id": "DJ9B7wNV4zuF",
        "outputId": "dfb11433-c49f-4efc-845f-abec869b6bb3"
      },
      "execution_count": 22,
      "outputs": [
        {
          "output_type": "execute_result",
          "data": {
            "text/plain": [
              "(torch.Size([224, 224, 3]), 3)"
            ]
          },
          "metadata": {},
          "execution_count": 22
        }
      ]
    },
    {
      "cell_type": "markdown",
      "source": [
        "### zeros and Ones\n",
        "\n",
        "\n",
        " - Tensor of all zero\n",
        " - Masking can help make one part of the tensor zero, thats masking"
      ],
      "metadata": {
        "id": "agd5O9Vb42El"
      }
    },
    {
      "cell_type": "code",
      "source": [
        "#Tensor of all zeros\n",
        "#zeros are usually used for masking\n",
        "\n",
        "zero = torch.zeros(size=(3,4))\n",
        "zero"
      ],
      "metadata": {
        "colab": {
          "base_uri": "https://localhost:8080/"
        },
        "id": "jhGotJ1C51CL",
        "outputId": "80532f70-ce5d-4e3e-8e23-2a056d8736b9"
      },
      "execution_count": 23,
      "outputs": [
        {
          "output_type": "execute_result",
          "data": {
            "text/plain": [
              "tensor([[0., 0., 0., 0.],\n",
              "        [0., 0., 0., 0.],\n",
              "        [0., 0., 0., 0.]])"
            ]
          },
          "metadata": {},
          "execution_count": 23
        }
      ]
    },
    {
      "cell_type": "code",
      "source": [
        "#Tensor of all Ones\n",
        "\n",
        "ones = torch.ones(size=(3,4))\n",
        "ones"
      ],
      "metadata": {
        "colab": {
          "base_uri": "https://localhost:8080/"
        },
        "id": "yrbhfQCk59fQ",
        "outputId": "7c07b379-b256-4ea7-bb08-b011af637a1b"
      },
      "execution_count": 24,
      "outputs": [
        {
          "output_type": "execute_result",
          "data": {
            "text/plain": [
              "tensor([[1., 1., 1., 1.],\n",
              "        [1., 1., 1., 1.],\n",
              "        [1., 1., 1., 1.]])"
            ]
          },
          "metadata": {},
          "execution_count": 24
        }
      ]
    },
    {
      "cell_type": "markdown",
      "source": [
        "Data type - dtype\n",
        "Default is torch.float32\n",
        "all the above are float numbers i.e 1."
      ],
      "metadata": {
        "id": "M5BfNvD3QhUE"
      }
    },
    {
      "cell_type": "code",
      "source": [
        "#data type of tensors\n",
        "ones.dtype,zero.dtype,random_image.dtype"
      ],
      "metadata": {
        "colab": {
          "base_uri": "https://localhost:8080/"
        },
        "id": "tqgKk9N46Q5B",
        "outputId": "cdccea63-ee55-41c1-d638-a8dcb5a6d142"
      },
      "execution_count": 25,
      "outputs": [
        {
          "output_type": "execute_result",
          "data": {
            "text/plain": [
              "(torch.float32, torch.float32, torch.float32)"
            ]
          },
          "metadata": {},
          "execution_count": 25
        }
      ]
    },
    {
      "cell_type": "markdown",
      "source": [
        "# Creating Range of Tensors and tensors-like\n",
        "\n",
        "# end will be the number - 1\n",
        "\n"
      ],
      "metadata": {
        "id": "I1WJhri-6eNC"
      }
    },
    {
      "cell_type": "code",
      "source": [
        "range_tensor  = torch.arange(start=1, end = 11, step = 1)\n",
        "range_tensor, range_tensor.shape, range_tensor.ndim"
      ],
      "metadata": {
        "id": "yEiHHInL7DZK",
        "colab": {
          "base_uri": "https://localhost:8080/"
        },
        "outputId": "13400616-9685-46a9-8dd9-76117470a2b6"
      },
      "execution_count": 26,
      "outputs": [
        {
          "output_type": "execute_result",
          "data": {
            "text/plain": [
              "(tensor([ 1,  2,  3,  4,  5,  6,  7,  8,  9, 10]), torch.Size([10]), 1)"
            ]
          },
          "metadata": {},
          "execution_count": 26
        }
      ]
    },
    {
      "cell_type": "code",
      "source": [
        "#creating tensors alike\n",
        "#replicating the shape of tensors\n",
        "\n",
        "alike_tensor = torch.zeros_like(input = range_tensor)\n",
        "alike_tensor"
      ],
      "metadata": {
        "id": "Ss77WoeA7SXG",
        "colab": {
          "base_uri": "https://localhost:8080/"
        },
        "outputId": "afc578f8-5b49-4bf9-ee32-d1689d98dd89"
      },
      "execution_count": 27,
      "outputs": [
        {
          "output_type": "execute_result",
          "data": {
            "text/plain": [
              "tensor([0, 0, 0, 0, 0, 0, 0, 0, 0, 0])"
            ]
          },
          "metadata": {},
          "execution_count": 27
        }
      ]
    },
    {
      "cell_type": "code",
      "source": [
        "alike_tensor"
      ],
      "metadata": {
        "colab": {
          "base_uri": "https://localhost:8080/"
        },
        "id": "RWeHxkDG-xGi",
        "outputId": "44822ed7-f0dd-4ef3-e560-c80fb6057faa"
      },
      "execution_count": 28,
      "outputs": [
        {
          "output_type": "execute_result",
          "data": {
            "text/plain": [
              "tensor([0, 0, 0, 0, 0, 0, 0, 0, 0, 0])"
            ]
          },
          "metadata": {},
          "execution_count": 28
        }
      ]
    },
    {
      "cell_type": "markdown",
      "source": [
        "## Tensor Datatypes\n",
        "\n",
        "What is float 32 and float 16 what are these numbers?\n",
        "\n",
        "They have to do with precision in computing, The precision is the numerical quanity, it is measure of the detail in which the quantity is expressed, usually measure in bits\n",
        "\n",
        "torch.float32 = computers stores the number as 32-bit floating point\n",
        "\n",
        "Why to lower the precious.\n",
        "Sometimes one sacrifices the detail in order to calculate fast.\n",
        "\n",
        "#Tensor Datatypes is one of the 3 big erros one can run into with pytorch and deep learning\n",
        "\n",
        "1. Tensors not right datatype (Some Ops may not work)\n",
        "2. Tensors not right Shape\n",
        "3. Tensors not on the right device\n",
        "\n"
      ],
      "metadata": {
        "id": "N49lZAOZ-yZ4"
      }
    },
    {
      "cell_type": "code",
      "source": [
        "#Tensor Datatypes\n",
        "#Default Datatype for tensor is float32\n",
        "float_32_tensor  = torch.tensor([3.0,4.0,5.0],\n",
        "                                dtype = None, #The data type of the tensors\n",
        "                                device = 'cpu', #what device the tensor is on\n",
        "                                requires_grad = False) #whether or not track gradients with this tensors operations\n",
        "float_32_tensor.dtype"
      ],
      "metadata": {
        "colab": {
          "base_uri": "https://localhost:8080/"
        },
        "id": "zwni5krn_fYJ",
        "outputId": "cec9ebef-24af-4c24-89fd-475f0fca2158"
      },
      "execution_count": 29,
      "outputs": [
        {
          "output_type": "execute_result",
          "data": {
            "text/plain": [
              "torch.float32"
            ]
          },
          "metadata": {},
          "execution_count": 29
        }
      ]
    },
    {
      "cell_type": "code",
      "source": [
        "#Changing the datatype of tha tensor\n",
        "\n",
        "float_16_tensor = float_32_tensor.type(torch.int32)\n",
        "float_16_tensor.dtype"
      ],
      "metadata": {
        "colab": {
          "base_uri": "https://localhost:8080/"
        },
        "id": "5FqE2YDx_f-9",
        "outputId": "f0169389-828f-43a6-b051-6d099397aee8"
      },
      "execution_count": 30,
      "outputs": [
        {
          "output_type": "execute_result",
          "data": {
            "text/plain": [
              "torch.int32"
            ]
          },
          "metadata": {},
          "execution_count": 30
        }
      ]
    },
    {
      "cell_type": "code",
      "source": [
        "float_16_tensor*float_32_tensor"
      ],
      "metadata": {
        "colab": {
          "base_uri": "https://localhost:8080/"
        },
        "id": "BQIoaOh8YG3Q",
        "outputId": "653a9b1c-674d-4d44-8e27-7e40c0426b18"
      },
      "execution_count": 31,
      "outputs": [
        {
          "output_type": "execute_result",
          "data": {
            "text/plain": [
              "tensor([ 9., 16., 25.])"
            ]
          },
          "metadata": {},
          "execution_count": 31
        }
      ]
    },
    {
      "cell_type": "code",
      "source": [
        "#Getting Shape, Data Type and Device of a Tensor\n",
        "#Tensor Attributes, these are not functions\n",
        "float_16_tensor.dtype,float_16_tensor.shape,float_16_tensor.device"
      ],
      "metadata": {
        "colab": {
          "base_uri": "https://localhost:8080/"
        },
        "id": "tuR2Y0SAOU2e",
        "outputId": "e2f9e48a-17bf-4914-c1bd-1b019fa1607e"
      },
      "execution_count": 32,
      "outputs": [
        {
          "output_type": "execute_result",
          "data": {
            "text/plain": [
              "(torch.int32, torch.Size([3]), device(type='cpu'))"
            ]
          },
          "metadata": {},
          "execution_count": 32
        }
      ]
    },
    {
      "cell_type": "code",
      "source": [
        "#Creating a random tensor with a datatype\n",
        "\n",
        "rand = torch.rand(size = (1,3), dtype = torch.float16)\n",
        "rand"
      ],
      "metadata": {
        "colab": {
          "base_uri": "https://localhost:8080/"
        },
        "id": "fW6u_zqEQyky",
        "outputId": "f28c2b0c-a54d-40e2-f8f1-e6c708be896a"
      },
      "execution_count": 33,
      "outputs": [
        {
          "output_type": "execute_result",
          "data": {
            "text/plain": [
              "tensor([[0.6597, 0.9365, 0.1904]], dtype=torch.float16)"
            ]
          },
          "metadata": {},
          "execution_count": 33
        }
      ]
    },
    {
      "cell_type": "code",
      "source": [
        "#Manipulating Tensors (Tensors Operations)\n",
        "tensor_ops = torch.rand(1,3)\n",
        "tensor_ops + 100,tensor_ops * 100,tensor_ops - 100"
      ],
      "metadata": {
        "colab": {
          "base_uri": "https://localhost:8080/"
        },
        "id": "-y4MZ8nQSqLo",
        "outputId": "fd4b2d72-8a87-44fe-bb8e-52dc5aca55df"
      },
      "execution_count": 34,
      "outputs": [
        {
          "output_type": "execute_result",
          "data": {
            "text/plain": [
              "(tensor([[100.1741, 100.0120, 100.9073]]),\n",
              " tensor([[17.4055,  1.1996, 90.7260]]),\n",
              " tensor([[-99.8259, -99.9880, -99.0927]]))"
            ]
          },
          "metadata": {},
          "execution_count": 34
        }
      ]
    },
    {
      "cell_type": "code",
      "source": [
        "tensor_ops + 100"
      ],
      "metadata": {
        "colab": {
          "base_uri": "https://localhost:8080/"
        },
        "id": "V0pR1RxNT5pX",
        "outputId": "63bbd6c8-6102-4cbf-e325-7f0d31f2b2f3"
      },
      "execution_count": 35,
      "outputs": [
        {
          "output_type": "execute_result",
          "data": {
            "text/plain": [
              "tensor([[100.1741, 100.0120, 100.9073]])"
            ]
          },
          "metadata": {},
          "execution_count": 35
        }
      ]
    },
    {
      "cell_type": "code",
      "source": [
        "tensor_ops * 100"
      ],
      "metadata": {
        "colab": {
          "base_uri": "https://localhost:8080/"
        },
        "id": "BuxbXR1aUCCl",
        "outputId": "c5447f06-79b6-4a6f-d93c-02f8c04528f9"
      },
      "execution_count": 36,
      "outputs": [
        {
          "output_type": "execute_result",
          "data": {
            "text/plain": [
              "tensor([[17.4055,  1.1996, 90.7260]])"
            ]
          },
          "metadata": {},
          "execution_count": 36
        }
      ]
    },
    {
      "cell_type": "code",
      "source": [
        "tensor_ops - 10"
      ],
      "metadata": {
        "colab": {
          "base_uri": "https://localhost:8080/"
        },
        "id": "xcM-2C6UUOG7",
        "outputId": "65c9f994-d4c9-42c4-f8dd-290a1ca33b77"
      },
      "execution_count": 37,
      "outputs": [
        {
          "output_type": "execute_result",
          "data": {
            "text/plain": [
              "tensor([[-9.8259, -9.9880, -9.0927]])"
            ]
          },
          "metadata": {},
          "execution_count": 37
        }
      ]
    },
    {
      "cell_type": "markdown",
      "source": [
        "## Two type of multiplication\n",
        "\n",
        "\n",
        "###Element Wise\n",
        "######(done above)\n",
        "\n",
        "###Matrix multiplication ( dot p)\n",
        "#### Two rules must be following\n",
        "####1. Inner Dimension must match\n",
        "####2. Resulting Matrix Will be in outer Dimention"
      ],
      "metadata": {
        "id": "X9TOrnLaUSsI"
      }
    },
    {
      "cell_type": "code",
      "source": [
        "\n",
        "tensor = torch.tensor([1,2,3])\n",
        "tensor * tensor,torch.matmul(tensor,tensor) ,tensor.shape"
      ],
      "metadata": {
        "id": "iv8zO2bXUohG",
        "colab": {
          "base_uri": "https://localhost:8080/"
        },
        "outputId": "3bbdccba-c900-4629-f0ad-eb3b8c8f0364"
      },
      "execution_count": 38,
      "outputs": [
        {
          "output_type": "execute_result",
          "data": {
            "text/plain": [
              "(tensor([1, 4, 9]), tensor(14), torch.Size([3]))"
            ]
          },
          "metadata": {},
          "execution_count": 38
        }
      ]
    },
    {
      "cell_type": "code",
      "source": [
        "tensor_ops2 = torch.rand(size = (3,2))\n",
        "#torch.mm(tensor_ops,tensor_ops)\n",
        "#Error as inner dimensions donot match\n"
      ],
      "metadata": {
        "id": "xNuwm_3ffCk7"
      },
      "execution_count": 39,
      "outputs": []
    },
    {
      "cell_type": "code",
      "source": [
        "\n",
        "tensor2 = tensor_ops2.T\n",
        "tensor2.shape,tensor_ops2.shape\n",
        "tensor3 = torch.matmul(tensor2, tensor_ops2)\n",
        "#now with transpose we could now multiply"
      ],
      "metadata": {
        "id": "rPvVHiwydzFj"
      },
      "execution_count": 40,
      "outputs": []
    },
    {
      "cell_type": "code",
      "source": [
        "tensor3"
      ],
      "metadata": {
        "colab": {
          "base_uri": "https://localhost:8080/"
        },
        "id": "FhP3EOJprf7w",
        "outputId": "c0333e69-287f-4250-8b65-6271347d6785"
      },
      "execution_count": 41,
      "outputs": [
        {
          "output_type": "execute_result",
          "data": {
            "text/plain": [
              "tensor([[1.5047, 1.0142],\n",
              "        [1.0142, 0.8897]])"
            ]
          },
          "metadata": {},
          "execution_count": 41
        }
      ]
    },
    {
      "cell_type": "markdown",
      "source": [
        "##Tensor Aggregation (Finding min,max, mean, sum)"
      ],
      "metadata": {
        "id": "FctE1Pt8riS7"
      }
    },
    {
      "cell_type": "code",
      "source": [
        "tensor_agg = torch.arange(0,100,10)\n",
        "tensor_agg, tensor_agg.max(), tensor_agg.min()"
      ],
      "metadata": {
        "id": "VQ7WhwkdtAA8",
        "colab": {
          "base_uri": "https://localhost:8080/"
        },
        "outputId": "f346adc2-a1be-4e68-b5e8-af2154ca9065"
      },
      "execution_count": 43,
      "outputs": [
        {
          "output_type": "execute_result",
          "data": {
            "text/plain": [
              "(tensor([ 0, 10, 20, 30, 40, 50, 60, 70, 80, 90]), tensor(90), tensor(0))"
            ]
          },
          "metadata": {},
          "execution_count": 43
        }
      ]
    },
    {
      "cell_type": "code",
      "source": [],
      "metadata": {
        "id": "SlnxeeFuvu5n"
      },
      "execution_count": 43,
      "outputs": []
    },
    {
      "cell_type": "code",
      "source": [
        "#tensor_agg.mean()\n",
        "#Error because tensor_agg have datatype\n",
        "# Now finding the right Datatype is crucial here\n",
        "# as we know tensor_agg have datatype long but mean function could be in float the datatypes are not matching hence we have to convert it to float\n",
        "torch.mean(tensor_agg.type(torch.float32)) , tensor_agg.mean(dtype=torch.float32)"
      ],
      "metadata": {
        "colab": {
          "base_uri": "https://localhost:8080/"
        },
        "id": "jZhNBWaUvz7_",
        "outputId": "eefe036d-6a3c-4f3a-c91f-f130b6d3b1eb"
      },
      "execution_count": 44,
      "outputs": [
        {
          "output_type": "execute_result",
          "data": {
            "text/plain": [
              "(tensor(45.), tensor(45.))"
            ]
          },
          "metadata": {},
          "execution_count": 44
        }
      ]
    },
    {
      "cell_type": "markdown",
      "source": [
        "## Finding the positional min and max\n",
        "## Index of  min and max"
      ],
      "metadata": {
        "id": "GAqRg8YYv18B"
      }
    },
    {
      "cell_type": "code",
      "source": [
        "tensor_agg.argmin()"
      ],
      "metadata": {
        "colab": {
          "base_uri": "https://localhost:8080/"
        },
        "id": "YQe_3p4KbpOK",
        "outputId": "fd8cfc66-ead7-4077-e19c-c7c33436dd03"
      },
      "execution_count": 45,
      "outputs": [
        {
          "output_type": "execute_result",
          "data": {
            "text/plain": [
              "tensor(0)"
            ]
          },
          "metadata": {},
          "execution_count": 45
        }
      ]
    },
    {
      "cell_type": "code",
      "source": [
        "tensor_agg.argmax()"
      ],
      "metadata": {
        "colab": {
          "base_uri": "https://localhost:8080/"
        },
        "id": "33arBHYCb1JX",
        "outputId": "3f4ece4b-3871-4cc6-853f-f025f26f09d8"
      },
      "execution_count": 46,
      "outputs": [
        {
          "output_type": "execute_result",
          "data": {
            "text/plain": [
              "tensor(9)"
            ]
          },
          "metadata": {},
          "execution_count": 46
        }
      ]
    },
    {
      "cell_type": "markdown",
      "source": [
        "## Reshaping, Stacking, Squeezing and Unsqueezing\n",
        "\n",
        "* Reshaping - Reshapes an input tensor to a defined shape\n",
        "* View - Return a view of an input tensor of certain shape but keep the same memory as the original torch.tensor\n",
        "* Stacking - Combine multiple tensors on top of each other (vstack) or side by side (hstack)\n",
        "* Squeeze - Removes all '1' dimensions from a tensor\n",
        "* Unsqueeze - Add a '1' dimension to a target tensor\n",
        "* Permute - Return a view of the input with dimensions permuted (swapped) in a certain way"
      ],
      "metadata": {
        "id": "Fhs5ksfhb8SJ"
      }
    },
    {
      "cell_type": "code",
      "source": [
        "#Reshaping\n",
        "\n",
        "import torch\n",
        "x= torch.arange(1,10)\n",
        "x"
      ],
      "metadata": {
        "colab": {
          "base_uri": "https://localhost:8080/"
        },
        "id": "YKzCOUi4dBII",
        "outputId": "b191b97b-ac5f-475f-fdac-1a450b0aa368"
      },
      "execution_count": 59,
      "outputs": [
        {
          "output_type": "execute_result",
          "data": {
            "text/plain": [
              "tensor([1, 2, 3, 4, 5, 6, 7, 8, 9])"
            ]
          },
          "metadata": {},
          "execution_count": 59
        }
      ]
    },
    {
      "cell_type": "code",
      "source": [
        "x.shape"
      ],
      "metadata": {
        "colab": {
          "base_uri": "https://localhost:8080/"
        },
        "id": "32TK5OxIdoWz",
        "outputId": "b6f80216-4b75-49b9-cff6-f763194cacd9"
      },
      "execution_count": 60,
      "outputs": [
        {
          "output_type": "execute_result",
          "data": {
            "text/plain": [
              "torch.Size([9])"
            ]
          },
          "metadata": {},
          "execution_count": 60
        }
      ]
    },
    {
      "cell_type": "code",
      "source": [
        "#adding an extra dimension,\n",
        "#When changing the dimensions, new dimensions should be compatible with the original dimension\n",
        "\n",
        "x.reshape(1,1,9)\n",
        "#x.reshape(7,1) this will not be working because we have invalid input size of 9\n",
        "#if you look carefully at x above we can just add extra dimensions not change the existing dimension"
      ],
      "metadata": {
        "colab": {
          "base_uri": "https://localhost:8080/"
        },
        "id": "kmLqjFisdrrB",
        "outputId": "881af069-0832-44a8-9060-cf4e05f56778"
      },
      "execution_count": 61,
      "outputs": [
        {
          "output_type": "execute_result",
          "data": {
            "text/plain": [
              "tensor([[[1, 2, 3, 4, 5, 6, 7, 8, 9]]])"
            ]
          },
          "metadata": {},
          "execution_count": 61
        }
      ]
    },
    {
      "cell_type": "code",
      "source": [
        "z=x.view(1,9) #same as reshape but new shape will have same reference as old one. i.e z will share the same memory as x\n",
        "z"
      ],
      "metadata": {
        "id": "CGVe1mGMduTu",
        "colab": {
          "base_uri": "https://localhost:8080/"
        },
        "outputId": "a1801777-8ac0-4560-8330-7a6d7f099b48"
      },
      "execution_count": 62,
      "outputs": [
        {
          "output_type": "execute_result",
          "data": {
            "text/plain": [
              "tensor([[1, 2, 3, 4, 5, 6, 7, 8, 9]])"
            ]
          },
          "metadata": {},
          "execution_count": 62
        }
      ]
    },
    {
      "cell_type": "code",
      "source": [
        "#stacking\n",
        "#default dimension is 0, its vertical stack\n",
        "\n",
        "x_stacked = torch.stack([x,x,x,x])"
      ],
      "metadata": {
        "id": "8fY0VAUKqrAY"
      },
      "execution_count": 63,
      "outputs": []
    },
    {
      "cell_type": "code",
      "source": [
        "x_stacked"
      ],
      "metadata": {
        "colab": {
          "base_uri": "https://localhost:8080/"
        },
        "id": "ncoJaPiurHjf",
        "outputId": "698210fd-c26b-4749-e16d-8df19bcc4a6e"
      },
      "execution_count": 64,
      "outputs": [
        {
          "output_type": "execute_result",
          "data": {
            "text/plain": [
              "tensor([[1, 2, 3, 4, 5, 6, 7, 8, 9],\n",
              "        [1, 2, 3, 4, 5, 6, 7, 8, 9],\n",
              "        [1, 2, 3, 4, 5, 6, 7, 8, 9],\n",
              "        [1, 2, 3, 4, 5, 6, 7, 8, 9]])"
            ]
          },
          "metadata": {},
          "execution_count": 64
        }
      ]
    },
    {
      "cell_type": "code",
      "source": [
        "x_stacked = torch.stack([x,x,x,x], dim = 1) #hstack\n",
        "x_stacked"
      ],
      "metadata": {
        "colab": {
          "base_uri": "https://localhost:8080/"
        },
        "id": "Oq06bo4JrIjn",
        "outputId": "21b7d461-a88c-4918-e638-1010a93f211e"
      },
      "execution_count": 65,
      "outputs": [
        {
          "output_type": "execute_result",
          "data": {
            "text/plain": [
              "tensor([[1, 1, 1, 1],\n",
              "        [2, 2, 2, 2],\n",
              "        [3, 3, 3, 3],\n",
              "        [4, 4, 4, 4],\n",
              "        [5, 5, 5, 5],\n",
              "        [6, 6, 6, 6],\n",
              "        [7, 7, 7, 7],\n",
              "        [8, 8, 8, 8],\n",
              "        [9, 9, 9, 9]])"
            ]
          },
          "metadata": {},
          "execution_count": 65
        }
      ]
    },
    {
      "cell_type": "code",
      "source": [
        "#squeeze removes all single dimensions\n",
        "x, x.size()"
      ],
      "metadata": {
        "colab": {
          "base_uri": "https://localhost:8080/"
        },
        "id": "5LgBKiVprSU7",
        "outputId": "86396bd9-fb4a-4934-ba07-426776a78c36"
      },
      "execution_count": 66,
      "outputs": [
        {
          "output_type": "execute_result",
          "data": {
            "text/plain": [
              "(tensor([1, 2, 3, 4, 5, 6, 7, 8, 9]), torch.Size([9]))"
            ]
          },
          "metadata": {},
          "execution_count": 66
        }
      ]
    },
    {
      "cell_type": "code",
      "source": [
        "#since x has the single dimension of size 9 it has no 1 dimension so no effect will be of squeeze function\n",
        "n_new = x.reshape(1,9)\n",
        "n_new.size()"
      ],
      "metadata": {
        "colab": {
          "base_uri": "https://localhost:8080/"
        },
        "id": "W-mvsM-ozl_1",
        "outputId": "39b4b5be-58d7-4a5e-8056-e2e60db717f6"
      },
      "execution_count": 78,
      "outputs": [
        {
          "output_type": "execute_result",
          "data": {
            "text/plain": [
              "torch.Size([1, 9])"
            ]
          },
          "metadata": {},
          "execution_count": 78
        }
      ]
    },
    {
      "cell_type": "code",
      "source": [
        "x_new2 = n_new.squeeze()\n",
        "x_new2, x_new2.size()"
      ],
      "metadata": {
        "colab": {
          "base_uri": "https://localhost:8080/"
        },
        "id": "Bj4SRpYBrolL",
        "outputId": "1c08530b-4c9c-4ec1-9fd1-4cde7ba7959c"
      },
      "execution_count": 81,
      "outputs": [
        {
          "output_type": "execute_result",
          "data": {
            "text/plain": [
              "(tensor([1, 2, 3, 4, 5, 6, 7, 8, 9]), torch.Size([9]))"
            ]
          },
          "metadata": {},
          "execution_count": 81
        }
      ]
    },
    {
      "cell_type": "code",
      "source": [
        "check = x_new2.unsqueeze(dim = 1)\n",
        "check, check.size()"
      ],
      "metadata": {
        "colab": {
          "base_uri": "https://localhost:8080/"
        },
        "id": "G0fjbfO_TPah",
        "outputId": "da7cbb1e-7782-42bb-ecd4-835a33d0adcc"
      },
      "execution_count": 93,
      "outputs": [
        {
          "output_type": "execute_result",
          "data": {
            "text/plain": [
              "(tensor([[1],\n",
              "         [2],\n",
              "         [3],\n",
              "         [4],\n",
              "         [5],\n",
              "         [6],\n",
              "         [7],\n",
              "         [8],\n",
              "         [9]]),\n",
              " torch.Size([9, 1]))"
            ]
          },
          "metadata": {},
          "execution_count": 93
        }
      ]
    },
    {
      "cell_type": "code",
      "source": [
        "#permutation\n",
        "#rearranges the dimension of target order in a specified order\n",
        "#in pytorch i sort of works like a rearrange\n",
        "img_tens  = torch.rand(size = (224,244,3))\n"
      ],
      "metadata": {
        "id": "tTz386C4rr0S"
      },
      "execution_count": 94,
      "outputs": []
    },
    {
      "cell_type": "code",
      "source": [
        "img_tens.size()"
      ],
      "metadata": {
        "id": "3-ViHh-r3C7v",
        "colab": {
          "base_uri": "https://localhost:8080/"
        },
        "outputId": "59ae1733-2f87-437c-a1ed-411a16bc7e8a"
      },
      "execution_count": 97,
      "outputs": [
        {
          "output_type": "execute_result",
          "data": {
            "text/plain": [
              "torch.Size([224, 244, 3])"
            ]
          },
          "metadata": {},
          "execution_count": 97
        }
      ]
    },
    {
      "cell_type": "code",
      "source": [
        "img_tens.permute(2,0,1).size()"
      ],
      "metadata": {
        "id": "5VJGdFl53Lov",
        "colab": {
          "base_uri": "https://localhost:8080/"
        },
        "outputId": "2135ee3a-2b7a-47c0-9fd0-1ad8009cca82"
      },
      "execution_count": 98,
      "outputs": [
        {
          "output_type": "execute_result",
          "data": {
            "text/plain": [
              "torch.Size([3, 224, 244])"
            ]
          },
          "metadata": {},
          "execution_count": 98
        }
      ]
    },
    {
      "cell_type": "markdown",
      "source": [
        "##Permutation\n",
        "\n",
        "####permutation is a view that means it shares the same memory as the original tensor"
      ],
      "metadata": {
        "id": "zJ_h6FM33ZuK"
      }
    },
    {
      "cell_type": "code",
      "source": [
        "\n",
        "import torch\n",
        "image_tensor = torch.rand(size = (224,224,3))"
      ],
      "metadata": {
        "id": "mAr8stHKewt3"
      },
      "execution_count": null,
      "outputs": []
    },
    {
      "cell_type": "code",
      "source": [
        "permuted_ = image_tensor.permute(2,0,1)\n",
        "permuted_.size()"
      ],
      "metadata": {
        "colab": {
          "base_uri": "https://localhost:8080/"
        },
        "id": "qFWgU8XGd9I2",
        "outputId": "47e92d8f-abb6-4257-dfc7-afdaa279619f"
      },
      "execution_count": null,
      "outputs": [
        {
          "output_type": "execute_result",
          "data": {
            "text/plain": [
              "torch.Size([3, 224, 224])"
            ]
          },
          "metadata": {},
          "execution_count": 18
        }
      ]
    },
    {
      "cell_type": "markdown",
      "source": [
        "##Indexing\n",
        "\n",
        "####Selecting Data from tensors with indexing\n",
        "\n",
        "#similar to that of numpy"
      ],
      "metadata": {
        "id": "xqb5cn28gWbT"
      }
    },
    {
      "cell_type": "code",
      "source": [
        "import torch\n",
        "\n",
        "x = torch.arange(1,10).reshape(1,3,3)\n",
        "x, x.size()"
      ],
      "metadata": {
        "colab": {
          "base_uri": "https://localhost:8080/"
        },
        "id": "wk6qQMl9g7Wz",
        "outputId": "3aa79f28-32be-4191-c33e-bbb8021285ef"
      },
      "execution_count": 117,
      "outputs": [
        {
          "output_type": "execute_result",
          "data": {
            "text/plain": [
              "(tensor([[[1, 2, 3],\n",
              "          [4, 5, 6],\n",
              "          [7, 8, 9]]]),\n",
              " torch.Size([1, 3, 3]))"
            ]
          },
          "metadata": {},
          "execution_count": 117
        }
      ]
    },
    {
      "cell_type": "code",
      "source": [
        "image_tensor[0,0,0] , permuted_[0,0,0]"
      ],
      "metadata": {
        "colab": {
          "base_uri": "https://localhost:8080/"
        },
        "id": "NiqTK9gRo8sO",
        "outputId": "b3c99b84-0406-47ec-a887-43e6b5235eda"
      },
      "execution_count": null,
      "outputs": [
        {
          "output_type": "execute_result",
          "data": {
            "text/plain": [
              "(tensor(0.0800), tensor(0.0800))"
            ]
          },
          "metadata": {},
          "execution_count": 25
        }
      ]
    },
    {
      "cell_type": "markdown",
      "source": [
        "##numpy to pytorch\n",
        "#### torch.from_numpy(ndarray)\n",
        "##pytorch to numpy\n",
        "#### torch.tensor.numpy()\n",
        "\n",
        "\n",
        "###numpy default datatype is float64 and torch datatype is float 32\n"
      ],
      "metadata": {
        "id": "9L-Y7BSspELB"
      }
    },
    {
      "cell_type": "code",
      "source": [
        "#numpy to torch = torch.from_numpy\n",
        "#tensor to numpy > torch.Tensor.numpy\n",
        "import numpy as np\n",
        "array  = np.arange(1.0,8.0)\n",
        "tensor_ =torch.from_numpy(array)\n",
        "array, tensor_,tensor_.dtype"
      ],
      "metadata": {
        "id": "f-WbAFgDpR80",
        "colab": {
          "base_uri": "https://localhost:8080/"
        },
        "outputId": "2514fc01-126b-4657-f077-94a865c8bad9"
      },
      "execution_count": 123,
      "outputs": [
        {
          "output_type": "execute_result",
          "data": {
            "text/plain": [
              "(array([1., 2., 3., 4., 5., 6., 7.]),\n",
              " tensor([1., 2., 3., 4., 5., 6., 7.], dtype=torch.float64),\n",
              " torch.float64)"
            ]
          },
          "metadata": {},
          "execution_count": 123
        }
      ]
    },
    {
      "cell_type": "code",
      "source": [
        "tensor_.type(torch.float32)"
      ],
      "metadata": {
        "colab": {
          "base_uri": "https://localhost:8080/"
        },
        "id": "bH5lWa2hkQkt",
        "outputId": "a7f11c3d-0f18-49d0-b511-f2d6941fc236"
      },
      "execution_count": 125,
      "outputs": [
        {
          "output_type": "execute_result",
          "data": {
            "text/plain": [
              "tensor([1., 2., 3., 4., 5., 6., 7.])"
            ]
          },
          "metadata": {},
          "execution_count": 125
        }
      ]
    },
    {
      "cell_type": "markdown",
      "source": [
        "##Reproducibility\n",
        "####Trying to take out random out of random\n",
        "'Start with random numbers - > performs tensor operations -> update random numbers to make them better representation of the data -> again '\n",
        "\n",
        "\n",
        "#### but Randomization is also a problem, and to reduce randomness in neural network and pytorch their comes a concept of **random seed**\n",
        "\n",
        "meaning that\n",
        "In torch it is called **manual seed**"
      ],
      "metadata": {
        "id": "yH-WAhrCusxD"
      }
    },
    {
      "cell_type": "code",
      "source": [
        "import torch\n",
        "\n",
        "RANDOM_SEED = 42\n",
        "torch.manual_seed(RANDOM_SEED)\n",
        "random_seed_tensor1 = torch.rand(size=(3,4))\n",
        "#To make sure that tensor is random with the seed you need to put this manual_seed line above\n",
        "#it works only one block of code that is why it is called again\n",
        "torch.manual_seed(RANDOM_SEED)\n",
        "random_seed_tensor2 = torch.rand(size=(3,4))\n",
        "print(random_seed_tensor1)\n",
        "print(random_seed_tensor2)\n",
        "print(random_seed_tensor1 == random_seed_tensor2)"
      ],
      "metadata": {
        "colab": {
          "base_uri": "https://localhost:8080/"
        },
        "id": "IdiuHBAgzNrF",
        "outputId": "78b6c445-dc31-466b-d4ce-7119b5fe8fd9"
      },
      "execution_count": 126,
      "outputs": [
        {
          "output_type": "stream",
          "name": "stdout",
          "text": [
            "tensor([[0.8823, 0.9150, 0.3829, 0.9593],\n",
            "        [0.3904, 0.6009, 0.2566, 0.7936],\n",
            "        [0.9408, 0.1332, 0.9346, 0.5936]])\n",
            "tensor([[0.8823, 0.9150, 0.3829, 0.9593],\n",
            "        [0.3904, 0.6009, 0.2566, 0.7936],\n",
            "        [0.9408, 0.1332, 0.9346, 0.5936]])\n",
            "tensor([[True, True, True, True],\n",
            "        [True, True, True, True],\n",
            "        [True, True, True, True]])\n"
          ]
        }
      ]
    },
    {
      "cell_type": "markdown",
      "source": [
        "## Running Tensors and pytorch objects on GPUs\n",
        "\n"
      ],
      "metadata": {
        "id": "e37AwcyX-4ZV"
      }
    },
    {
      "cell_type": "markdown",
      "source": [
        "### 1. Getting a GPU\n",
        "\n",
        "1 - Use google collab pro\n",
        "2 - Use your own\n",
        "3 - Use cloud computing - GCP AWS or AZURE\n",
        "for 2 and 3 takes little bit of setup > for that you can go to pytorch.org"
      ],
      "metadata": {
        "id": "ih-ZPU7FHsDG"
      }
    },
    {
      "cell_type": "code",
      "source": [
        "#2. Some device agnostic code below\n",
        "import torch\n",
        "\n",
        "torch.cuda.is_available()"
      ],
      "metadata": {
        "colab": {
          "base_uri": "https://localhost:8080/"
        },
        "id": "-221bo1xJCV2",
        "outputId": "205e4471-19f7-48cb-a646-f1f33cec4ab4"
      },
      "execution_count": 130,
      "outputs": [
        {
          "output_type": "execute_result",
          "data": {
            "text/plain": [
              "False"
            ]
          },
          "metadata": {},
          "execution_count": 130
        }
      ]
    },
    {
      "cell_type": "code",
      "source": [
        "device = \"cuda\" if torch.cuda.is_available() else \"cpu\""
      ],
      "metadata": {
        "id": "IiLqeIjKJwgr"
      },
      "execution_count": 129,
      "outputs": []
    },
    {
      "cell_type": "code",
      "source": [
        "torch.cuda.device_count()"
      ],
      "metadata": {
        "colab": {
          "base_uri": "https://localhost:8080/"
        },
        "id": "b_zrRA-OJ8hj",
        "outputId": "fc6e2547-010b-4726-f47a-9e0596258836"
      },
      "execution_count": 131,
      "outputs": [
        {
          "output_type": "execute_result",
          "data": {
            "text/plain": [
              "0"
            ]
          },
          "metadata": {},
          "execution_count": 131
        }
      ]
    },
    {
      "cell_type": "markdown",
      "source": [
        "## 3. putting tensors and models on GPU"
      ],
      "metadata": {
        "id": "MZ0daTfXKcRb"
      }
    },
    {
      "cell_type": "code",
      "source": [
        "tensor = torch.tensor([1,2,3])\n",
        "print(tensor , device)"
      ],
      "metadata": {
        "colab": {
          "base_uri": "https://localhost:8080/"
        },
        "id": "lafTdc_hLDzF",
        "outputId": "1b8d0702-5f17-450e-a7be-de844ddb88f5"
      },
      "execution_count": null,
      "outputs": [
        {
          "output_type": "stream",
          "name": "stdout",
          "text": [
            "tensor([1, 2, 3]) cpu\n"
          ]
        }
      ]
    },
    {
      "cell_type": "code",
      "source": [
        "#Move tensor to GPU if avilable\n",
        "#you can make a device of GPU\n",
        "tensor_to_gpu = tensor.to(device)\n",
        "tensor_to_gpu"
      ],
      "metadata": {
        "colab": {
          "base_uri": "https://localhost:8080/"
        },
        "id": "OS-w6uehLPNn",
        "outputId": "521e2e3a-488a-4bfd-93f5-826dc19759cd"
      },
      "execution_count": 133,
      "outputs": [
        {
          "output_type": "execute_result",
          "data": {
            "text/plain": [
              "tensor([1, 2, 3])"
            ]
          },
          "metadata": {},
          "execution_count": 133
        }
      ]
    },
    {
      "cell_type": "code",
      "source": [
        "#4. Moving Tensors back to CPU\n",
        "# numpy only works with cpu so for tensor to change in numpy you need to change them to cpu\n",
        "#as well if they are on gpu\n",
        "tensor_back_on_cpu = tensor_to_gpu.cpu()\n",
        "tensor_back_on_cpu.numpy()\n",
        "\n",
        "\n"
      ],
      "metadata": {
        "colab": {
          "base_uri": "https://localhost:8080/"
        },
        "id": "oQAIkJfILpnw",
        "outputId": "59396ef2-6a2c-4eac-fc75-1fff967d4508"
      },
      "execution_count": 134,
      "outputs": [
        {
          "output_type": "execute_result",
          "data": {
            "text/plain": [
              "array([1, 2, 3])"
            ]
          },
          "metadata": {},
          "execution_count": 134
        }
      ]
    },
    {
      "cell_type": "markdown",
      "source": [
        "**Exercise**"
      ],
      "metadata": {
        "id": "NKSY6mGU3iNl"
      }
    },
    {
      "cell_type": "code",
      "source": [
        "random_seed = 42\n",
        "torch.manual_seed = random_seed\n",
        "random_tensor = torch.rand(size=(7,7))\n",
        "random_tensor2 = torch.rand(size=(1,7))\n",
        "random_tensor2 = random_tensor2.T\n",
        "random_tensor3 = torch.mm(random_tensor,random_tensor)\n",
        "decive = 'cuda' if torch.cuda.is_available else 'cpu'\n",
        "torch.cuda.device_count()"
      ],
      "metadata": {
        "id": "ypdZo2YkMQTr",
        "colab": {
          "base_uri": "https://localhost:8080/"
        },
        "outputId": "38aa28c7-49fd-4eec-cc45-8fb202c64f12"
      },
      "execution_count": 143,
      "outputs": [
        {
          "output_type": "execute_result",
          "data": {
            "text/plain": [
              "0"
            ]
          },
          "metadata": {},
          "execution_count": 143
        }
      ]
    },
    {
      "cell_type": "code",
      "source": [],
      "metadata": {
        "id": "5Q1fFpww4HGR"
      },
      "execution_count": null,
      "outputs": []
    }
  ]
}