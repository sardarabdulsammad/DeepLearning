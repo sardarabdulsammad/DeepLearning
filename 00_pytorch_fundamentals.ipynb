{
  "nbformat": 4,
  "nbformat_minor": 0,
  "metadata": {
    "colab": {
      "provenance": [],
      "authorship_tag": "ABX9TyPzRk1q8pGR2D7e2xzOpXaq",
      "include_colab_link": true
    },
    "kernelspec": {
      "name": "python3",
      "display_name": "Python 3"
    },
    "language_info": {
      "name": "python"
    }
  },
  "cells": [
    {
      "cell_type": "markdown",
      "metadata": {
        "id": "view-in-github",
        "colab_type": "text"
      },
      "source": [
        "<a href=\"https://colab.research.google.com/github/sardarabdulsammad/DeepLearning/blob/main/00_pytorch_fundamentals.ipynb\" target=\"_parent\"><img src=\"https://colab.research.google.com/assets/colab-badge.svg\" alt=\"Open In Colab\"/></a>"
      ]
    },
    {
      "cell_type": "code",
      "execution_count": 2,
      "metadata": {
        "id": "A2tzYruYMOJt",
        "colab": {
          "base_uri": "https://localhost:8080/"
        },
        "outputId": "ea8610d7-75d6-4706-daea-47dc2b888a02"
      },
      "outputs": [
        {
          "output_type": "stream",
          "name": "stdout",
          "text": [
            "2.4.0+cu121\n"
          ]
        }
      ],
      "source": [
        "import torch\n",
        "import numpy as np\n",
        "import pandas as pd\n",
        "print(torch.__version__)"
      ]
    },
    {
      "cell_type": "markdown",
      "source": [
        "## tensors Introduction\n",
        "\n",
        "### Creating Tensors"
      ],
      "metadata": {
        "id": "4K7CCSlrVRY3"
      }
    },
    {
      "cell_type": "code",
      "source": [
        "#Scalar\n",
        "scalar = torch.tensor(7)\n",
        "scalar\n"
      ],
      "metadata": {
        "colab": {
          "base_uri": "https://localhost:8080/"
        },
        "id": "U1CTfQDjqfiz",
        "outputId": "25a720bf-eb83-4277-8bf4-a38d0bf0924d"
      },
      "execution_count": 3,
      "outputs": [
        {
          "output_type": "execute_result",
          "data": {
            "text/plain": [
              "tensor(7)"
            ]
          },
          "metadata": {},
          "execution_count": 3
        }
      ]
    },
    {
      "cell_type": "code",
      "source": [
        "#vector\n",
        "vector = torch.tensor([7,7])\n",
        "vector"
      ],
      "metadata": {
        "colab": {
          "base_uri": "https://localhost:8080/"
        },
        "id": "_d9Ag2jGrK1k",
        "outputId": "de1ad574-cdac-42d7-a0b0-4f43f1be85e1"
      },
      "execution_count": 4,
      "outputs": [
        {
          "output_type": "execute_result",
          "data": {
            "text/plain": [
              "tensor([7, 7])"
            ]
          },
          "metadata": {},
          "execution_count": 4
        }
      ]
    },
    {
      "cell_type": "code",
      "source": [
        "vector.shape"
      ],
      "metadata": {
        "colab": {
          "base_uri": "https://localhost:8080/"
        },
        "id": "TcdMVfO1D4uG",
        "outputId": "71890cc5-aefe-4331-d5a8-4bf0c10c5d5e"
      },
      "execution_count": 5,
      "outputs": [
        {
          "output_type": "execute_result",
          "data": {
            "text/plain": [
              "torch.Size([2])"
            ]
          },
          "metadata": {},
          "execution_count": 5
        }
      ]
    },
    {
      "cell_type": "code",
      "source": [
        "matrix = torch.tensor([[7,8],[9,10]])\n",
        "matrix"
      ],
      "metadata": {
        "colab": {
          "base_uri": "https://localhost:8080/"
        },
        "id": "hZUW7QivD7Qx",
        "outputId": "859eef7e-c5d6-4292-fa7d-196dae4eaa37"
      },
      "execution_count": 6,
      "outputs": [
        {
          "output_type": "execute_result",
          "data": {
            "text/plain": [
              "tensor([[ 7,  8],\n",
              "        [ 9, 10]])"
            ]
          },
          "metadata": {},
          "execution_count": 6
        }
      ]
    },
    {
      "cell_type": "code",
      "source": [
        "matrix.shape"
      ],
      "metadata": {
        "id": "Cg2UPNIhErVg",
        "outputId": "deaad5b5-3552-455c-e2df-dea93b9f8252",
        "colab": {
          "base_uri": "https://localhost:8080/"
        }
      },
      "execution_count": 7,
      "outputs": [
        {
          "output_type": "execute_result",
          "data": {
            "text/plain": [
              "torch.Size([2, 2])"
            ]
          },
          "metadata": {},
          "execution_count": 7
        }
      ]
    },
    {
      "cell_type": "markdown",
      "source": [
        "##Random Tensors\n",
        "\n",
        "Start with Random Number -> look at data -> update random numbers -> look at data -> update random numbers"
      ],
      "metadata": {
        "id": "4vAkQd-yEtbY"
      }
    },
    {
      "cell_type": "code",
      "source": [
        "#create random tensor\n",
        "\n",
        "random_tensor = torch.rand(10,10,10)"
      ],
      "metadata": {
        "id": "2qYsjkbIzBgz"
      },
      "execution_count": 8,
      "outputs": []
    },
    {
      "cell_type": "code",
      "source": [
        "random_tensor"
      ],
      "metadata": {
        "colab": {
          "base_uri": "https://localhost:8080/"
        },
        "id": "OdpXcyt5zXfQ",
        "outputId": "b3f9ee2a-fc5a-406f-d287-a645264aa069"
      },
      "execution_count": 9,
      "outputs": [
        {
          "output_type": "execute_result",
          "data": {
            "text/plain": [
              "tensor([[[6.0006e-02, 3.4161e-02, 1.3648e-01, 4.1250e-01, 4.8693e-01,\n",
              "          4.1208e-01, 2.9405e-01, 1.4325e-02, 8.2788e-01, 7.4172e-01],\n",
              "         [6.4281e-01, 9.3081e-01, 7.5361e-01, 1.0568e-01, 2.8505e-01,\n",
              "          9.1746e-01, 1.0030e-01, 1.1674e-01, 6.1520e-01, 2.5918e-01],\n",
              "         [9.1394e-01, 1.7857e-01, 3.8932e-01, 5.4318e-02, 9.1215e-01,\n",
              "          3.6771e-01, 3.9628e-01, 4.0200e-01, 5.9212e-01, 7.4651e-01],\n",
              "         [2.7257e-02, 6.1365e-01, 5.3721e-01, 2.5987e-01, 4.6494e-01,\n",
              "          9.8740e-01, 2.0053e-01, 7.3684e-02, 5.6788e-01, 7.8585e-01],\n",
              "         [9.3862e-02, 3.3361e-01, 2.2606e-01, 5.6637e-01, 5.7812e-02,\n",
              "          7.9914e-01, 1.7539e-01, 6.7176e-01, 9.4396e-01, 2.3013e-01],\n",
              "         [6.4611e-01, 6.1072e-01, 4.1485e-01, 7.7090e-01, 3.2929e-01,\n",
              "          9.4470e-01, 7.3972e-01, 5.6841e-01, 6.5713e-01, 1.5118e-01],\n",
              "         [8.5516e-01, 3.7020e-01, 8.7493e-01, 1.6556e-01, 6.2541e-01,\n",
              "          6.6932e-01, 7.6624e-01, 6.6288e-01, 2.3445e-01, 5.3793e-01],\n",
              "         [6.1450e-02, 5.8056e-01, 7.5987e-01, 5.0054e-01, 3.0265e-01,\n",
              "          7.6683e-01, 6.0647e-01, 1.7560e-01, 3.8311e-01, 1.3806e-01],\n",
              "         [7.9008e-01, 5.2709e-01, 2.7797e-01, 8.7211e-01, 7.7913e-01,\n",
              "          2.6587e-01, 5.7975e-01, 2.8420e-01, 7.2209e-01, 1.8047e-01],\n",
              "         [8.7199e-01, 2.5353e-01, 2.1592e-01, 3.0399e-01, 1.2714e-02,\n",
              "          7.7050e-01, 8.8226e-01, 8.2714e-01, 4.0393e-01, 3.9250e-02]],\n",
              "\n",
              "        [[4.9760e-01, 1.5842e-01, 9.0268e-01, 1.5610e-01, 9.4805e-01,\n",
              "          8.3603e-01, 8.0907e-01, 7.8392e-01, 1.5655e-02, 8.1864e-01],\n",
              "         [2.8438e-01, 9.1044e-01, 5.7338e-01, 4.0288e-02, 1.7383e-02,\n",
              "          5.7540e-01, 3.4669e-01, 9.3007e-01, 1.8931e-01, 8.1629e-01],\n",
              "         [5.5936e-01, 3.0831e-01, 6.8107e-01, 2.8219e-02, 3.8559e-01,\n",
              "          2.1763e-01, 1.3894e-01, 2.4398e-01, 6.6705e-01, 6.8621e-01],\n",
              "         [2.0467e-01, 1.2409e-02, 5.3198e-01, 8.5806e-01, 4.0209e-01,\n",
              "          4.5398e-01, 5.9362e-01, 3.6651e-01, 6.5323e-02, 7.2906e-01],\n",
              "         [5.1679e-01, 1.8954e-01, 6.9358e-01, 6.0518e-01, 4.9378e-01,\n",
              "          2.0862e-01, 6.7961e-01, 2.3147e-01, 6.9330e-01, 3.4715e-01],\n",
              "         [6.1798e-01, 8.5475e-01, 3.3970e-01, 5.1711e-02, 5.8593e-01,\n",
              "          5.3892e-01, 1.8931e-01, 8.5784e-01, 6.1595e-01, 1.3137e-01],\n",
              "         [4.4120e-01, 6.6880e-01, 5.4770e-01, 6.2841e-02, 1.5840e-01,\n",
              "          5.6051e-01, 7.3731e-01, 6.8955e-01, 3.8195e-01, 9.2724e-01],\n",
              "         [8.5240e-01, 9.1231e-01, 5.5078e-01, 4.8792e-02, 7.7186e-01,\n",
              "          7.7721e-01, 7.7213e-01, 6.9873e-01, 5.2501e-01, 2.5296e-01],\n",
              "         [1.8047e-01, 7.8541e-01, 6.5782e-01, 5.1735e-01, 3.0588e-01,\n",
              "          6.4270e-01, 1.4468e-01, 5.8439e-01, 2.4031e-01, 9.4503e-01],\n",
              "         [8.3012e-02, 9.0390e-01, 5.3184e-02, 5.4170e-01, 4.9775e-01,\n",
              "          3.4724e-02, 4.6245e-01, 5.7519e-02, 8.1879e-01, 1.3269e-01]],\n",
              "\n",
              "        [[8.6753e-01, 1.9581e-01, 5.7675e-01, 1.9877e-01, 1.9352e-01,\n",
              "          6.7967e-02, 8.1383e-01, 4.3250e-01, 2.5979e-01, 8.6661e-01],\n",
              "         [2.4526e-01, 6.5972e-01, 1.8869e-01, 9.9862e-02, 2.7373e-02,\n",
              "          8.8255e-01, 3.6268e-01, 9.9709e-01, 8.2438e-01, 4.2035e-01],\n",
              "         [6.8456e-01, 1.9838e-01, 4.7643e-01, 4.7086e-01, 2.3226e-01,\n",
              "          2.0828e-01, 4.6197e-01, 1.9962e-01, 9.4881e-01, 1.1569e-01],\n",
              "         [2.4953e-01, 4.8426e-01, 3.3284e-01, 6.1667e-01, 2.5880e-01,\n",
              "          1.3732e-01, 9.6894e-01, 2.9720e-02, 2.6421e-01, 6.4082e-01],\n",
              "         [2.2994e-01, 3.9449e-01, 8.2673e-01, 2.9771e-01, 2.6060e-01,\n",
              "          5.1799e-01, 4.5445e-01, 8.4418e-01, 4.6284e-01, 4.1981e-01],\n",
              "         [2.5030e-01, 3.6407e-01, 5.1197e-01, 2.3996e-01, 2.3358e-01,\n",
              "          4.5895e-01, 7.1446e-01, 5.3588e-01, 8.0279e-01, 8.2634e-01],\n",
              "         [1.8117e-01, 9.1889e-02, 3.6663e-01, 9.3829e-01, 1.1755e-01,\n",
              "          7.4190e-01, 3.5811e-01, 5.8758e-01, 5.2098e-01, 8.6080e-01],\n",
              "         [9.6129e-01, 5.9099e-01, 9.7593e-01, 8.4056e-01, 4.3791e-01,\n",
              "          3.3403e-01, 9.3893e-02, 8.7487e-01, 9.2619e-03, 7.0823e-01],\n",
              "         [6.9118e-01, 6.8279e-02, 7.1412e-01, 6.3423e-01, 5.8220e-01,\n",
              "          7.2358e-01, 6.1389e-01, 6.1525e-01, 6.4296e-01, 4.6236e-01],\n",
              "         [9.5437e-01, 3.6456e-01, 2.1779e-01, 7.6205e-01, 6.2165e-01,\n",
              "          3.3150e-01, 7.4262e-02, 5.8716e-01, 5.6077e-01, 4.3811e-01]],\n",
              "\n",
              "        [[7.5631e-01, 7.5319e-01, 8.6893e-01, 3.9709e-01, 2.6702e-01,\n",
              "          3.8792e-01, 7.0476e-01, 6.2328e-01, 9.8293e-01, 5.6055e-01],\n",
              "         [8.3642e-01, 1.1109e-01, 2.5873e-02, 2.2131e-01, 1.6654e-01,\n",
              "          3.6202e-02, 5.7739e-01, 8.2647e-01, 6.4066e-01, 1.4851e-01],\n",
              "         [6.3887e-01, 3.1887e-01, 8.6406e-01, 9.8894e-01, 7.9269e-01,\n",
              "          6.9307e-01, 7.0132e-01, 6.6248e-01, 9.1607e-01, 6.7839e-01],\n",
              "         [1.0962e-01, 7.2937e-01, 6.3004e-01, 8.7562e-01, 6.8512e-01,\n",
              "          6.4664e-01, 6.9375e-02, 4.8567e-01, 8.9107e-01, 1.4816e-01],\n",
              "         [1.5114e-01, 9.0378e-01, 2.3543e-02, 6.4789e-01, 5.7793e-01,\n",
              "          5.3782e-01, 6.6728e-01, 9.5212e-04, 1.8153e-01, 3.6802e-01],\n",
              "         [4.7918e-01, 3.4129e-01, 5.9482e-02, 1.1150e-01, 5.9965e-01,\n",
              "          7.7961e-01, 3.7777e-01, 8.3478e-01, 5.8831e-01, 9.7855e-01],\n",
              "         [9.9754e-01, 1.8491e-01, 1.5703e-01, 4.5469e-01, 3.7761e-01,\n",
              "          6.3223e-01, 1.4835e-01, 4.9467e-01, 3.8548e-01, 7.2944e-01],\n",
              "         [1.5144e-01, 8.3910e-01, 1.1711e-01, 6.5093e-01, 3.9769e-01,\n",
              "          1.5119e-01, 4.2795e-01, 4.0452e-01, 1.3969e-01, 1.9415e-01],\n",
              "         [8.9650e-01, 2.9106e-02, 6.5000e-01, 1.9880e-01, 8.9949e-01,\n",
              "          4.5997e-01, 6.7825e-01, 7.9490e-01, 4.8691e-01, 2.2307e-01],\n",
              "         [1.4747e-01, 5.4104e-01, 6.0362e-01, 5.1854e-01, 6.2379e-01,\n",
              "          8.5820e-01, 5.4730e-01, 2.9314e-02, 2.5490e-01, 2.8794e-01]],\n",
              "\n",
              "        [[3.3824e-01, 3.3683e-01, 6.5062e-01, 9.4338e-01, 3.7520e-01,\n",
              "          1.8440e-01, 8.0630e-01, 6.0798e-01, 1.3991e-01, 1.3500e-01],\n",
              "         [7.7716e-01, 7.0197e-01, 1.5777e-01, 1.4720e-01, 9.4057e-01,\n",
              "          5.0463e-01, 8.1577e-01, 3.3969e-01, 1.7212e-01, 4.9059e-01],\n",
              "         [2.9306e-01, 2.7737e-01, 9.4380e-01, 4.8697e-01, 2.2302e-01,\n",
              "          2.0645e-01, 3.3333e-01, 2.3298e-01, 6.3150e-01, 8.2581e-01],\n",
              "         [6.8931e-01, 8.8476e-01, 7.2336e-01, 1.4771e-01, 6.5140e-01,\n",
              "          7.6423e-01, 6.0370e-01, 3.2717e-01, 6.0742e-02, 2.8747e-01],\n",
              "         [4.1602e-01, 7.9628e-01, 4.6815e-01, 6.5062e-02, 2.5130e-01,\n",
              "          1.4678e-01, 3.7423e-01, 2.2574e-01, 1.6195e-01, 1.8029e-01],\n",
              "         [9.1501e-01, 6.7609e-01, 3.8859e-01, 8.8066e-01, 7.7652e-01,\n",
              "          9.9430e-01, 7.8958e-01, 6.2083e-01, 2.5441e-01, 1.2675e-01],\n",
              "         [4.6909e-01, 2.6013e-01, 9.5454e-02, 6.5709e-01, 1.7347e-01,\n",
              "          3.7112e-01, 9.2915e-01, 4.1283e-01, 1.3230e-01, 7.8524e-01],\n",
              "         [1.8351e-01, 8.6215e-01, 3.1393e-01, 7.3891e-01, 5.9463e-01,\n",
              "          8.9060e-01, 1.8721e-01, 5.2008e-01, 2.9076e-01, 6.8729e-03],\n",
              "         [1.0158e-01, 3.2106e-02, 9.3530e-02, 6.6984e-01, 6.0145e-01,\n",
              "          2.6363e-01, 4.9238e-01, 5.9186e-01, 3.9888e-01, 7.0794e-01],\n",
              "         [6.2041e-02, 7.9117e-01, 8.8769e-01, 8.4364e-01, 5.0223e-01,\n",
              "          7.3863e-02, 7.3449e-01, 1.6575e-01, 4.4391e-01, 9.5322e-01]],\n",
              "\n",
              "        [[1.9894e-01, 5.6885e-01, 6.9655e-02, 3.1832e-02, 7.4059e-01,\n",
              "          7.5401e-01, 3.1809e-01, 7.8684e-01, 2.8347e-01, 6.5174e-01],\n",
              "         [4.8427e-01, 6.6325e-02, 6.4194e-01, 9.9842e-01, 4.3117e-01,\n",
              "          4.8798e-01, 8.2846e-01, 1.1458e-01, 6.9176e-01, 9.1415e-01],\n",
              "         [2.2683e-01, 9.3727e-01, 4.9994e-01, 7.1537e-01, 9.3393e-01,\n",
              "          9.6370e-01, 9.3689e-01, 7.0275e-01, 5.5455e-02, 1.4723e-01],\n",
              "         [3.4863e-01, 9.8889e-01, 9.6437e-01, 7.3747e-01, 6.3581e-01,\n",
              "          1.6404e-01, 3.1417e-01, 5.6717e-01, 1.5236e-01, 1.3348e-01],\n",
              "         [6.2331e-01, 2.4323e-02, 4.0075e-01, 3.2351e-01, 5.5580e-01,\n",
              "          4.3977e-01, 8.6882e-01, 2.0419e-01, 6.6113e-02, 2.7831e-01],\n",
              "         [7.9548e-01, 5.4951e-01, 3.4761e-01, 6.4690e-01, 4.9453e-01,\n",
              "          6.1399e-01, 2.6919e-01, 5.8746e-01, 4.6450e-01, 7.9798e-03],\n",
              "         [5.9762e-01, 4.6812e-01, 7.3443e-01, 1.8047e-01, 6.3048e-01,\n",
              "          5.9637e-02, 1.8433e-01, 4.2832e-02, 5.9051e-01, 8.7487e-01],\n",
              "         [3.3198e-01, 4.7772e-01, 5.4250e-01, 9.7422e-01, 7.3841e-01,\n",
              "          7.7711e-01, 1.5022e-01, 3.5393e-01, 6.6931e-01, 4.9682e-01],\n",
              "         [2.9586e-01, 7.1936e-01, 8.9360e-01, 9.3210e-01, 7.6311e-01,\n",
              "          8.6319e-01, 6.2998e-01, 1.1094e-01, 1.3118e-01, 5.7888e-01],\n",
              "         [2.3170e-01, 6.0792e-01, 8.5837e-01, 4.8872e-01, 8.1360e-04,\n",
              "          8.0464e-01, 5.9913e-01, 2.4407e-01, 5.0589e-01, 8.5904e-01]],\n",
              "\n",
              "        [[8.2123e-01, 3.0330e-01, 4.5276e-02, 9.6415e-01, 1.3966e-01,\n",
              "          6.2657e-01, 2.3746e-01, 7.1945e-01, 3.6098e-01, 7.7494e-01],\n",
              "         [5.7529e-03, 5.3254e-01, 3.5163e-01, 2.1357e-01, 7.5384e-01,\n",
              "          8.2179e-01, 7.8066e-01, 7.7285e-01, 1.1503e-01, 2.2299e-01],\n",
              "         [5.9487e-01, 5.6705e-01, 9.5139e-01, 4.0874e-01, 1.0124e-01,\n",
              "          3.3415e-01, 9.0526e-01, 6.6758e-01, 4.7142e-01, 5.9358e-01],\n",
              "         [4.1884e-01, 7.9041e-01, 2.7884e-01, 2.0848e-01, 6.4271e-01,\n",
              "          7.7017e-01, 4.5233e-01, 8.8670e-01, 8.6771e-01, 2.0479e-01],\n",
              "         [2.2836e-01, 7.7792e-01, 1.8253e-01, 4.0714e-01, 2.9258e-01,\n",
              "          2.7362e-01, 3.3657e-02, 7.7012e-01, 5.8005e-01, 9.5856e-01],\n",
              "         [9.2371e-01, 9.1846e-01, 5.2273e-01, 4.6856e-01, 4.4851e-01,\n",
              "          9.2707e-01, 6.3598e-02, 6.9829e-03, 7.5853e-01, 9.6997e-02],\n",
              "         [3.6886e-01, 9.3266e-01, 1.7651e-01, 2.5734e-01, 4.5209e-01,\n",
              "          9.1987e-01, 9.1658e-01, 1.8649e-01, 6.9455e-01, 9.4093e-01],\n",
              "         [9.3406e-01, 3.8812e-01, 6.2021e-01, 2.7518e-01, 8.4706e-01,\n",
              "          7.6616e-01, 7.1993e-01, 6.2910e-01, 4.7189e-01, 9.6721e-01],\n",
              "         [8.4835e-01, 3.9399e-01, 9.5888e-01, 8.2918e-01, 4.1656e-01,\n",
              "          7.9535e-01, 5.8656e-01, 8.9488e-01, 9.5185e-01, 9.3770e-01],\n",
              "         [9.6103e-01, 2.7078e-01, 2.5753e-01, 2.0204e-01, 3.8959e-01,\n",
              "          3.5193e-01, 5.8085e-02, 6.5667e-01, 7.0507e-01, 4.9926e-01]],\n",
              "\n",
              "        [[8.6061e-02, 7.3856e-01, 2.2398e-01, 9.4640e-01, 8.9157e-01,\n",
              "          6.1677e-01, 8.4805e-01, 1.2963e-01, 9.3324e-01, 5.3439e-01],\n",
              "         [6.6265e-01, 2.4738e-01, 3.5859e-01, 1.3389e-01, 7.8331e-01,\n",
              "          6.0474e-01, 9.4911e-01, 6.6184e-01, 6.3194e-01, 2.7333e-01],\n",
              "         [9.8312e-01, 9.8797e-01, 6.8890e-01, 5.1645e-01, 8.2543e-01,\n",
              "          3.1481e-01, 1.6260e-01, 2.2989e-01, 3.2607e-01, 2.0771e-01],\n",
              "         [9.6799e-01, 3.7870e-01, 2.9215e-01, 9.6806e-01, 1.2812e-01,\n",
              "          4.2593e-01, 2.2898e-01, 2.9352e-01, 3.1206e-01, 1.0131e-01],\n",
              "         [8.3453e-01, 1.7949e-01, 8.5619e-01, 5.6659e-01, 9.0159e-01,\n",
              "          4.1154e-01, 7.5337e-01, 9.7072e-01, 1.4974e-01, 8.6939e-01],\n",
              "         [8.0058e-01, 8.5983e-01, 5.9064e-01, 7.7296e-02, 7.3220e-01,\n",
              "          1.9280e-01, 1.3344e-01, 8.6989e-01, 8.6832e-01, 3.7268e-01],\n",
              "         [5.3157e-01, 7.9727e-01, 6.4584e-01, 2.0298e-01, 6.1204e-01,\n",
              "          9.1409e-01, 7.6441e-01, 2.3736e-02, 8.3265e-01, 4.4481e-01],\n",
              "         [9.2104e-01, 6.5694e-01, 5.6950e-01, 4.5838e-01, 8.8185e-01,\n",
              "          6.5918e-01, 5.6734e-01, 7.5831e-01, 1.0999e-01, 7.7092e-01],\n",
              "         [2.6911e-01, 8.5050e-03, 2.7450e-01, 2.7119e-01, 1.5727e-01,\n",
              "          1.5513e-01, 3.1157e-03, 7.5816e-01, 4.4978e-01, 3.2551e-01],\n",
              "         [5.3075e-01, 6.1808e-01, 5.2979e-01, 4.1151e-01, 3.7489e-01,\n",
              "          8.5108e-01, 1.7983e-01, 8.8864e-01, 2.3519e-01, 7.3295e-01]],\n",
              "\n",
              "        [[3.1830e-01, 3.8254e-01, 8.6575e-01, 2.3466e-01, 6.3712e-01,\n",
              "          5.6015e-01, 3.5649e-01, 7.5652e-01, 7.0235e-01, 6.2234e-02],\n",
              "         [6.9561e-01, 5.6458e-01, 8.3170e-01, 5.9682e-02, 1.2194e-01,\n",
              "          9.2420e-01, 9.0911e-01, 3.3858e-01, 3.6801e-01, 7.5650e-01],\n",
              "         [7.5518e-01, 8.6269e-01, 3.7682e-01, 1.2410e-01, 3.4893e-01,\n",
              "          6.9381e-01, 5.0864e-01, 1.2277e-01, 9.5714e-01, 7.9191e-01],\n",
              "         [5.4185e-01, 6.3122e-01, 8.3016e-01, 3.5404e-01, 7.9234e-02,\n",
              "          2.3531e-01, 4.3960e-01, 8.8997e-01, 4.2014e-01, 1.4903e-01],\n",
              "         [8.0132e-01, 5.2517e-01, 1.7752e-02, 5.6726e-01, 2.2002e-01,\n",
              "          8.3983e-01, 2.6827e-01, 7.1521e-01, 3.7319e-01, 4.5326e-01],\n",
              "         [5.8939e-01, 4.1571e-01, 6.6022e-01, 8.1955e-01, 8.2448e-01,\n",
              "          6.7525e-01, 7.9853e-01, 8.2688e-01, 4.1553e-01, 1.0893e-01],\n",
              "         [8.2408e-01, 2.0259e-01, 1.8647e-01, 7.1724e-01, 9.6122e-01,\n",
              "          5.3046e-01, 1.7576e-01, 4.8864e-01, 9.9130e-01, 5.4502e-01],\n",
              "         [5.9360e-02, 2.2572e-01, 3.8797e-01, 8.8073e-01, 2.7767e-01,\n",
              "          6.9016e-01, 6.5941e-01, 7.6294e-01, 7.4087e-01, 5.3186e-01],\n",
              "         [3.6801e-01, 5.2600e-01, 4.2692e-01, 7.7695e-01, 2.7279e-01,\n",
              "          2.9081e-01, 1.3579e-01, 2.5841e-01, 8.9054e-01, 4.7604e-01],\n",
              "         [9.4579e-02, 9.4020e-01, 8.1472e-01, 8.9430e-01, 4.6339e-01,\n",
              "          4.0483e-01, 6.4339e-01, 3.4440e-01, 8.5324e-01, 5.3181e-02]],\n",
              "\n",
              "        [[1.9158e-01, 4.2436e-01, 1.8809e-03, 4.5355e-01, 5.6103e-01,\n",
              "          6.3417e-01, 8.4239e-01, 9.6162e-03, 4.1444e-01, 5.7848e-01],\n",
              "         [7.1291e-01, 9.1996e-01, 3.4754e-01, 6.5184e-01, 1.2677e-01,\n",
              "          3.7724e-01, 5.0378e-01, 7.5165e-01, 6.6326e-01, 7.7006e-01],\n",
              "         [6.7948e-01, 6.1312e-01, 2.8291e-01, 8.4845e-02, 4.0198e-01,\n",
              "          2.6385e-01, 5.0242e-01, 9.9538e-01, 4.9886e-02, 6.0585e-01],\n",
              "         [5.2034e-01, 5.1248e-01, 8.9876e-01, 9.4244e-01, 3.4726e-01,\n",
              "          2.5273e-01, 4.2728e-01, 8.9492e-01, 4.2725e-01, 7.1307e-01],\n",
              "         [8.0542e-01, 7.5314e-01, 1.5889e-01, 5.9859e-02, 9.4058e-01,\n",
              "          9.5996e-01, 1.9267e-01, 4.0836e-02, 1.5337e-01, 4.5252e-01],\n",
              "         [1.2665e-01, 4.6569e-01, 6.0598e-03, 8.5141e-01, 1.5175e-01,\n",
              "          8.6985e-01, 2.7417e-01, 4.2486e-01, 6.2516e-01, 6.9686e-01],\n",
              "         [5.5201e-02, 1.5636e-01, 1.3530e-01, 7.4016e-01, 5.1999e-01,\n",
              "          4.8992e-01, 9.9296e-01, 4.6575e-01, 3.6955e-02, 5.6530e-01],\n",
              "         [9.9932e-01, 8.6000e-01, 3.3413e-01, 1.8136e-01, 1.8952e-01,\n",
              "          3.9327e-01, 6.5712e-01, 1.4022e-01, 4.7463e-01, 3.0237e-01],\n",
              "         [2.5436e-01, 3.0473e-01, 7.9519e-02, 7.9725e-01, 3.9924e-01,\n",
              "          4.4321e-01, 1.2223e-01, 4.6614e-01, 1.6294e-01, 5.8091e-01],\n",
              "         [7.9242e-01, 4.2609e-01, 9.5981e-01, 2.7884e-02, 9.0787e-02,\n",
              "          2.9267e-01, 7.0041e-01, 9.0260e-01, 6.4121e-01, 6.5677e-02]]])"
            ]
          },
          "metadata": {},
          "execution_count": 9
        }
      ]
    },
    {
      "cell_type": "code",
      "source": [
        "random_tensor.ndim"
      ],
      "metadata": {
        "colab": {
          "base_uri": "https://localhost:8080/"
        },
        "id": "IDA32GGVzbKl",
        "outputId": "f0a690ef-4461-4ec4-92f0-932823f21220"
      },
      "execution_count": 10,
      "outputs": [
        {
          "output_type": "execute_result",
          "data": {
            "text/plain": [
              "3"
            ]
          },
          "metadata": {},
          "execution_count": 10
        }
      ]
    },
    {
      "cell_type": "code",
      "source": [
        " #Random Tensor With shape of an image\n",
        " random_image = torch.rand(size = (224,224,3 )) #height, width Colour Channel"
      ],
      "metadata": {
        "id": "hTzTbaQWzdNA"
      },
      "execution_count": 11,
      "outputs": []
    },
    {
      "cell_type": "code",
      "source": [
        "random_image, random_image.shape"
      ],
      "metadata": {
        "colab": {
          "base_uri": "https://localhost:8080/"
        },
        "id": "DJ9B7wNV4zuF",
        "outputId": "23f33f43-6697-4057-a937-45b4750beef5"
      },
      "execution_count": 12,
      "outputs": [
        {
          "output_type": "execute_result",
          "data": {
            "text/plain": [
              "(tensor([[[0.4646, 0.8677, 0.2717],\n",
              "          [0.5831, 0.0759, 0.7471],\n",
              "          [0.8629, 0.1277, 0.2704],\n",
              "          ...,\n",
              "          [0.5881, 0.0924, 0.8154],\n",
              "          [0.6079, 0.3201, 0.0515],\n",
              "          [0.4224, 0.8325, 0.7040]],\n",
              " \n",
              "         [[0.3192, 0.3686, 0.9285],\n",
              "          [0.3228, 0.9981, 0.4853],\n",
              "          [0.3374, 0.2108, 0.3309],\n",
              "          ...,\n",
              "          [0.8200, 0.7283, 0.5502],\n",
              "          [0.5987, 0.7634, 0.9719],\n",
              "          [0.3076, 0.8692, 0.2920]],\n",
              " \n",
              "         [[0.8595, 0.5156, 0.8343],\n",
              "          [0.4451, 0.3445, 0.0595],\n",
              "          [0.1837, 0.3859, 0.2879],\n",
              "          ...,\n",
              "          [0.3254, 0.0345, 0.0972],\n",
              "          [0.4713, 0.3244, 0.8197],\n",
              "          [0.9250, 0.9918, 0.1693]],\n",
              " \n",
              "         ...,\n",
              " \n",
              "         [[0.3193, 0.8771, 0.6544],\n",
              "          [0.2326, 0.0223, 0.0186],\n",
              "          [0.7467, 0.5662, 0.8397],\n",
              "          ...,\n",
              "          [0.3208, 0.0408, 0.5248],\n",
              "          [0.7468, 0.1213, 0.8599],\n",
              "          [0.3507, 0.0167, 0.0618]],\n",
              " \n",
              "         [[0.1641, 0.1838, 0.2909],\n",
              "          [0.5605, 0.4829, 0.0912],\n",
              "          [0.4885, 0.9051, 0.7465],\n",
              "          ...,\n",
              "          [0.3424, 0.8818, 0.6496],\n",
              "          [0.7695, 0.3622, 0.0657],\n",
              "          [0.3542, 0.3129, 0.3791]],\n",
              " \n",
              "         [[0.6189, 0.3250, 0.4411],\n",
              "          [0.0886, 0.0076, 0.6975],\n",
              "          [0.3131, 0.0668, 0.3367],\n",
              "          ...,\n",
              "          [0.5134, 0.0112, 0.6872],\n",
              "          [0.8087, 0.2140, 0.3704],\n",
              "          [0.8127, 0.0818, 0.7542]]]),\n",
              " torch.Size([224, 224, 3]))"
            ]
          },
          "metadata": {},
          "execution_count": 12
        }
      ]
    },
    {
      "cell_type": "markdown",
      "source": [
        "### zeros and Ones"
      ],
      "metadata": {
        "id": "agd5O9Vb42El"
      }
    },
    {
      "cell_type": "code",
      "source": [
        "#Tensor of all zeros\n",
        "#zeros are usually used for masking\n",
        "\n",
        "zero = torch.zeros(size=(3,4))\n",
        "zero"
      ],
      "metadata": {
        "colab": {
          "base_uri": "https://localhost:8080/"
        },
        "id": "jhGotJ1C51CL",
        "outputId": "9b210210-b780-4ec0-8934-5a7b1161e461"
      },
      "execution_count": 13,
      "outputs": [
        {
          "output_type": "execute_result",
          "data": {
            "text/plain": [
              "tensor([[0., 0., 0., 0.],\n",
              "        [0., 0., 0., 0.],\n",
              "        [0., 0., 0., 0.]])"
            ]
          },
          "metadata": {},
          "execution_count": 13
        }
      ]
    },
    {
      "cell_type": "code",
      "source": [
        "#Tensor of all Ones\n",
        "\n",
        "ones = torch.ones(size=(3,4))\n",
        "ones"
      ],
      "metadata": {
        "colab": {
          "base_uri": "https://localhost:8080/"
        },
        "id": "yrbhfQCk59fQ",
        "outputId": "291d8f67-8502-4345-c501-1804529f64f9"
      },
      "execution_count": 14,
      "outputs": [
        {
          "output_type": "execute_result",
          "data": {
            "text/plain": [
              "tensor([[1., 1., 1., 1.],\n",
              "        [1., 1., 1., 1.],\n",
              "        [1., 1., 1., 1.]])"
            ]
          },
          "metadata": {},
          "execution_count": 14
        }
      ]
    },
    {
      "cell_type": "code",
      "source": [
        "#data type of tensors\n",
        "ones.dtype,zero.dtype,random_image.dtype"
      ],
      "metadata": {
        "colab": {
          "base_uri": "https://localhost:8080/"
        },
        "id": "tqgKk9N46Q5B",
        "outputId": "a0032d92-b086-409c-fd96-3f861d8d70c8"
      },
      "execution_count": 15,
      "outputs": [
        {
          "output_type": "execute_result",
          "data": {
            "text/plain": [
              "(torch.float32, torch.float32, torch.float32)"
            ]
          },
          "metadata": {},
          "execution_count": 15
        }
      ]
    },
    {
      "cell_type": "markdown",
      "source": [
        "# Creating Range of Tensors and tensors-like"
      ],
      "metadata": {
        "id": "I1WJhri-6eNC"
      }
    },
    {
      "cell_type": "code",
      "source": [
        "range_tensor  = torch.arange(start=0, end = 1000, step = 77)"
      ],
      "metadata": {
        "id": "yEiHHInL7DZK"
      },
      "execution_count": 16,
      "outputs": []
    },
    {
      "cell_type": "code",
      "source": [
        "#creating tensors alike\n",
        "alike_tensor = torch.zeros_like(input=range_tensor)\n"
      ],
      "metadata": {
        "id": "Ss77WoeA7SXG"
      },
      "execution_count": 17,
      "outputs": []
    },
    {
      "cell_type": "code",
      "source": [
        "alike_tensor"
      ],
      "metadata": {
        "colab": {
          "base_uri": "https://localhost:8080/"
        },
        "id": "RWeHxkDG-xGi",
        "outputId": "23b1e700-4e75-45c9-b8d7-f12714778933"
      },
      "execution_count": 18,
      "outputs": [
        {
          "output_type": "execute_result",
          "data": {
            "text/plain": [
              "tensor([0, 0, 0, 0, 0, 0, 0, 0, 0, 0, 0, 0, 0])"
            ]
          },
          "metadata": {},
          "execution_count": 18
        }
      ]
    },
    {
      "cell_type": "markdown",
      "source": [
        "## Tensor Datatypes\n",
        "\n",
        "#Tensor Datatypes is one of the 3 big erros one can run into with pytorch and deep learning\n",
        "\n",
        "1. Tensors not right datatype (Some Ops may not work)\n",
        "2. Tensors not right Shape\n",
        "3. Tensors not on the right device\n",
        "\n"
      ],
      "metadata": {
        "id": "N49lZAOZ-yZ4"
      }
    },
    {
      "cell_type": "code",
      "source": [
        "#Tensor Datatypes\n",
        "#Default Datatype for tensor is float32\n",
        "\n",
        "float_32_tensor  = torch.tensor([3.0,4.0,5.0],dtype = None,\n",
        "                                device = 'cpu', #what device the tensor is on\n",
        "                                requires_grad = False)\n",
        "float_32_tensor.dtype"
      ],
      "metadata": {
        "colab": {
          "base_uri": "https://localhost:8080/"
        },
        "id": "zwni5krn_fYJ",
        "outputId": "9c2cae33-73fa-4dbc-b17d-36e064588cd6"
      },
      "execution_count": 19,
      "outputs": [
        {
          "output_type": "execute_result",
          "data": {
            "text/plain": [
              "torch.float32"
            ]
          },
          "metadata": {},
          "execution_count": 19
        }
      ]
    },
    {
      "cell_type": "code",
      "source": [
        "#Changing the datatype of tha tensor\n",
        "\n",
        "float_16_tensor = float_32_tensor.type(torch.float16)\n",
        "float_16_tensor.dtype"
      ],
      "metadata": {
        "colab": {
          "base_uri": "https://localhost:8080/"
        },
        "id": "5FqE2YDx_f-9",
        "outputId": "ee0fb450-2589-4af9-f3dd-602304de5489"
      },
      "execution_count": 20,
      "outputs": [
        {
          "output_type": "execute_result",
          "data": {
            "text/plain": [
              "torch.float16"
            ]
          },
          "metadata": {},
          "execution_count": 20
        }
      ]
    },
    {
      "cell_type": "code",
      "source": [
        "#Getting Shape, Data Type and Device of a Tensor\n",
        "\n",
        "float_16_tensor.dtype,float_16_tensor.shape,float_16_tensor.device"
      ],
      "metadata": {
        "colab": {
          "base_uri": "https://localhost:8080/"
        },
        "id": "tuR2Y0SAOU2e",
        "outputId": "29eb7446-7170-40fc-bdfa-5a353b242450"
      },
      "execution_count": 21,
      "outputs": [
        {
          "output_type": "execute_result",
          "data": {
            "text/plain": [
              "(torch.float16, torch.Size([3]), device(type='cpu'))"
            ]
          },
          "metadata": {},
          "execution_count": 21
        }
      ]
    },
    {
      "cell_type": "code",
      "source": [
        "#Creating a random tensor with a datatype\n",
        "\n",
        "rand = torch.rand(size = (1,3), dtype = torch.float16)\n",
        "rand"
      ],
      "metadata": {
        "colab": {
          "base_uri": "https://localhost:8080/"
        },
        "id": "fW6u_zqEQyky",
        "outputId": "4a4eec28-b908-48ea-cdfa-c1a941b9be96"
      },
      "execution_count": 22,
      "outputs": [
        {
          "output_type": "execute_result",
          "data": {
            "text/plain": [
              "tensor([[0.5537, 0.8071, 0.5991]], dtype=torch.float16)"
            ]
          },
          "metadata": {},
          "execution_count": 22
        }
      ]
    },
    {
      "cell_type": "code",
      "source": [
        "#Manipulating Tensors\n",
        "\n",
        "\n",
        "tensor_ops = torch.rand(1,3)\n",
        "tensor_ops"
      ],
      "metadata": {
        "colab": {
          "base_uri": "https://localhost:8080/"
        },
        "id": "-y4MZ8nQSqLo",
        "outputId": "7b88f2d9-807c-4381-a7bf-a639b6994ff7"
      },
      "execution_count": 23,
      "outputs": [
        {
          "output_type": "execute_result",
          "data": {
            "text/plain": [
              "tensor([[0.3069, 0.6005, 0.2665]])"
            ]
          },
          "metadata": {},
          "execution_count": 23
        }
      ]
    },
    {
      "cell_type": "code",
      "source": [
        "tensor_ops + 100"
      ],
      "metadata": {
        "colab": {
          "base_uri": "https://localhost:8080/"
        },
        "id": "V0pR1RxNT5pX",
        "outputId": "4e5a1c08-a329-45e1-e0e3-b77cf758b475"
      },
      "execution_count": 24,
      "outputs": [
        {
          "output_type": "execute_result",
          "data": {
            "text/plain": [
              "tensor([[100.3069, 100.6005, 100.2665]])"
            ]
          },
          "metadata": {},
          "execution_count": 24
        }
      ]
    },
    {
      "cell_type": "code",
      "source": [
        "tensor_ops * 100"
      ],
      "metadata": {
        "colab": {
          "base_uri": "https://localhost:8080/"
        },
        "id": "BuxbXR1aUCCl",
        "outputId": "6e4c3f12-e5f8-475c-cc20-a98ae30e85db"
      },
      "execution_count": 25,
      "outputs": [
        {
          "output_type": "execute_result",
          "data": {
            "text/plain": [
              "tensor([[30.6902, 60.0497, 26.6483]])"
            ]
          },
          "metadata": {},
          "execution_count": 25
        }
      ]
    },
    {
      "cell_type": "code",
      "source": [
        "tensor_ops - 10"
      ],
      "metadata": {
        "colab": {
          "base_uri": "https://localhost:8080/"
        },
        "id": "xcM-2C6UUOG7",
        "outputId": "84c6006e-85f6-4f2a-f498-1dea6994602f"
      },
      "execution_count": 26,
      "outputs": [
        {
          "output_type": "execute_result",
          "data": {
            "text/plain": [
              "tensor([[-9.6931, -9.3995, -9.7335]])"
            ]
          },
          "metadata": {},
          "execution_count": 26
        }
      ]
    },
    {
      "cell_type": "markdown",
      "source": [
        "## Two type of multiplication\n",
        "\n",
        "\n",
        "###Element Wise\n",
        "######(done above)\n",
        "\n",
        "###Matrix multiplication ( dot p)\n",
        "#### Two rules must be following\n",
        "####1. Inner Dimension must match\n",
        "####2. Resulting Matrix Will be in outer Dimention"
      ],
      "metadata": {
        "id": "X9TOrnLaUSsI"
      }
    },
    {
      "cell_type": "code",
      "source": [
        "#torch.mm(tensor_ops,tensor_ops)\n",
        "#Error as inner dimensions donot match\n"
      ],
      "metadata": {
        "id": "iv8zO2bXUohG"
      },
      "execution_count": 27,
      "outputs": []
    },
    {
      "cell_type": "code",
      "source": [
        "tensor2 = tensor_ops.T\n",
        "#now with transpose we could now multiply"
      ],
      "metadata": {
        "id": "rPvVHiwydzFj"
      },
      "execution_count": 28,
      "outputs": []
    },
    {
      "cell_type": "code",
      "source": [
        "torch.mm(tensor_ops,tensor2)"
      ],
      "metadata": {
        "colab": {
          "base_uri": "https://localhost:8080/"
        },
        "id": "FhP3EOJprf7w",
        "outputId": "b6124519-37ec-4cfc-eebe-6c1f60adda65"
      },
      "execution_count": 29,
      "outputs": [
        {
          "output_type": "execute_result",
          "data": {
            "text/plain": [
              "tensor([[0.5258]])"
            ]
          },
          "metadata": {},
          "execution_count": 29
        }
      ]
    },
    {
      "cell_type": "markdown",
      "source": [
        "##Tensor Aggregation (Finding min,max, mean, sum)"
      ],
      "metadata": {
        "id": "FctE1Pt8riS7"
      }
    },
    {
      "cell_type": "code",
      "source": [
        "tensor_agg = torch.arange(1,100,10)"
      ],
      "metadata": {
        "id": "VQ7WhwkdtAA8"
      },
      "execution_count": 30,
      "outputs": []
    },
    {
      "cell_type": "code",
      "source": [
        "tensor_agg.min()"
      ],
      "metadata": {
        "colab": {
          "base_uri": "https://localhost:8080/"
        },
        "id": "M0hPXG35vse7",
        "outputId": "e1c2dd37-b4da-46f0-a6d6-e035f334e6f0"
      },
      "execution_count": 31,
      "outputs": [
        {
          "output_type": "execute_result",
          "data": {
            "text/plain": [
              "tensor(1)"
            ]
          },
          "metadata": {},
          "execution_count": 31
        }
      ]
    },
    {
      "cell_type": "code",
      "source": [
        "tensor_agg.max()"
      ],
      "metadata": {
        "colab": {
          "base_uri": "https://localhost:8080/"
        },
        "id": "SlnxeeFuvu5n",
        "outputId": "0e8af902-b53a-423b-87f9-687afc633c82"
      },
      "execution_count": 32,
      "outputs": [
        {
          "output_type": "execute_result",
          "data": {
            "text/plain": [
              "tensor(91)"
            ]
          },
          "metadata": {},
          "execution_count": 32
        }
      ]
    },
    {
      "cell_type": "code",
      "source": [
        "#tensor_agg.mean()\n",
        "#Error because tensor_agg have datatype\n",
        "# Now finding the right Datatype is crucial here\n",
        "# as we know tensor_agg have datatype long but mean function could be in float the datatypes are not matching hence we have to convert it to float\n",
        "torch.mean(tensor_agg.type(torch.float32))"
      ],
      "metadata": {
        "colab": {
          "base_uri": "https://localhost:8080/"
        },
        "id": "jZhNBWaUvz7_",
        "outputId": "76f0f56f-5903-45fb-9b69-16a2309d7082"
      },
      "execution_count": 34,
      "outputs": [
        {
          "output_type": "execute_result",
          "data": {
            "text/plain": [
              "tensor(46.)"
            ]
          },
          "metadata": {},
          "execution_count": 34
        }
      ]
    },
    {
      "cell_type": "code",
      "source": [],
      "metadata": {
        "id": "GAqRg8YYv18B"
      },
      "execution_count": null,
      "outputs": []
    }
  ]
}