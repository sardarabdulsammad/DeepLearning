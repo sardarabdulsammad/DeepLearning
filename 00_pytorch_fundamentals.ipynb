{
  "nbformat": 4,
  "nbformat_minor": 0,
  "metadata": {
    "colab": {
      "provenance": [],
      "authorship_tag": "ABX9TyOLQH8Qpgqc0MwOCURAjpSh",
      "include_colab_link": true
    },
    "kernelspec": {
      "name": "python3",
      "display_name": "Python 3"
    },
    "language_info": {
      "name": "python"
    }
  },
  "cells": [
    {
      "cell_type": "markdown",
      "metadata": {
        "id": "view-in-github",
        "colab_type": "text"
      },
      "source": [
        "<a href=\"https://colab.research.google.com/github/sardarabdulsammad/DeepLearning/blob/main/00_pytorch_fundamentals.ipynb\" target=\"_parent\"><img src=\"https://colab.research.google.com/assets/colab-badge.svg\" alt=\"Open In Colab\"/></a>"
      ]
    },
    {
      "cell_type": "code",
      "execution_count": null,
      "metadata": {
        "id": "A2tzYruYMOJt",
        "colab": {
          "base_uri": "https://localhost:8080/"
        },
        "outputId": "09c2b510-7084-4b41-8d4c-22666cb70da0"
      },
      "outputs": [
        {
          "output_type": "stream",
          "name": "stdout",
          "text": [
            "2.4.0+cu121\n"
          ]
        }
      ],
      "source": [
        "import torch\n",
        "import numpy as np\n",
        "import pandas as pd\n",
        "print(torch.__version__)"
      ]
    },
    {
      "cell_type": "markdown",
      "source": [
        "## tensors Introduction\n",
        "\n",
        "### Creating Tensors"
      ],
      "metadata": {
        "id": "4K7CCSlrVRY3"
      }
    },
    {
      "cell_type": "code",
      "source": [
        "#Scalar\n",
        "scalar = torch.tensor(7)\n",
        "scalar\n"
      ],
      "metadata": {
        "colab": {
          "base_uri": "https://localhost:8080/"
        },
        "id": "U1CTfQDjqfiz",
        "outputId": "7bb077e8-d126-4fa9-baf3-86c513b56782"
      },
      "execution_count": null,
      "outputs": [
        {
          "output_type": "execute_result",
          "data": {
            "text/plain": [
              "tensor(7)"
            ]
          },
          "metadata": {},
          "execution_count": 2
        }
      ]
    },
    {
      "cell_type": "code",
      "source": [
        "#vector\n",
        "vector = torch.tensor([7,7])\n",
        "vector"
      ],
      "metadata": {
        "colab": {
          "base_uri": "https://localhost:8080/"
        },
        "id": "_d9Ag2jGrK1k",
        "outputId": "2f41742c-6ab7-48f1-a071-10e5522c86dc"
      },
      "execution_count": null,
      "outputs": [
        {
          "output_type": "execute_result",
          "data": {
            "text/plain": [
              "tensor([7, 7])"
            ]
          },
          "metadata": {},
          "execution_count": 3
        }
      ]
    },
    {
      "cell_type": "code",
      "source": [
        "vector.shape"
      ],
      "metadata": {
        "colab": {
          "base_uri": "https://localhost:8080/"
        },
        "id": "TcdMVfO1D4uG",
        "outputId": "85067cd7-39d9-4522-f4ee-a7ba1bad21af"
      },
      "execution_count": null,
      "outputs": [
        {
          "output_type": "execute_result",
          "data": {
            "text/plain": [
              "torch.Size([2])"
            ]
          },
          "metadata": {},
          "execution_count": 4
        }
      ]
    },
    {
      "cell_type": "code",
      "source": [
        "matrix = torch.tensor([[7,8],[9,10]])\n",
        "matrix"
      ],
      "metadata": {
        "colab": {
          "base_uri": "https://localhost:8080/"
        },
        "id": "hZUW7QivD7Qx",
        "outputId": "e99c9e42-6bc2-4b43-de1e-32fc05a8139c"
      },
      "execution_count": null,
      "outputs": [
        {
          "output_type": "execute_result",
          "data": {
            "text/plain": [
              "tensor([[ 7,  8],\n",
              "        [ 9, 10]])"
            ]
          },
          "metadata": {},
          "execution_count": 5
        }
      ]
    },
    {
      "cell_type": "code",
      "source": [
        "matrix.shape"
      ],
      "metadata": {
        "id": "Cg2UPNIhErVg",
        "outputId": "c8ceb3bc-af37-467b-ac31-467c14872b2d",
        "colab": {
          "base_uri": "https://localhost:8080/"
        }
      },
      "execution_count": null,
      "outputs": [
        {
          "output_type": "execute_result",
          "data": {
            "text/plain": [
              "torch.Size([2, 2])"
            ]
          },
          "metadata": {},
          "execution_count": 6
        }
      ]
    },
    {
      "cell_type": "markdown",
      "source": [
        "##Random Tensors\n",
        "\n",
        "Start with Random Number -> look at data -> update random numbers -> look at data -> update random numbers"
      ],
      "metadata": {
        "id": "4vAkQd-yEtbY"
      }
    },
    {
      "cell_type": "code",
      "source": [
        "#create random tensor\n",
        "\n",
        "random_tensor = torch.rand(10,10,10)"
      ],
      "metadata": {
        "id": "2qYsjkbIzBgz"
      },
      "execution_count": null,
      "outputs": []
    },
    {
      "cell_type": "code",
      "source": [
        "random_tensor"
      ],
      "metadata": {
        "colab": {
          "base_uri": "https://localhost:8080/"
        },
        "id": "OdpXcyt5zXfQ",
        "outputId": "be03ce95-5bdc-4ada-b209-fa27214d8fde"
      },
      "execution_count": null,
      "outputs": [
        {
          "output_type": "execute_result",
          "data": {
            "text/plain": [
              "tensor([[[0.6556, 0.8341, 0.1900, 0.7143, 0.2855, 0.1609, 0.9972, 0.9015,\n",
              "          0.1169, 0.8689],\n",
              "         [0.8420, 0.7082, 0.4817, 0.6837, 0.9097, 0.0571, 0.4566, 0.7495,\n",
              "          0.0201, 0.1078],\n",
              "         [0.6886, 0.6230, 0.3849, 0.2203, 0.3997, 0.9673, 0.2918, 0.8235,\n",
              "          0.5666, 0.8713],\n",
              "         [0.4144, 0.0362, 0.7838, 0.8441, 0.8429, 0.4443, 0.5086, 0.4520,\n",
              "          0.4305, 0.9091],\n",
              "         [0.2300, 0.3854, 0.0090, 0.5315, 0.4700, 0.8827, 0.9393, 0.7267,\n",
              "          0.2130, 0.9844],\n",
              "         [0.9584, 0.3328, 0.0255, 0.9354, 0.9845, 0.0305, 0.3754, 0.8122,\n",
              "          0.8802, 0.5761],\n",
              "         [0.4186, 0.0937, 0.8509, 0.9065, 0.9532, 0.2720, 0.0317, 0.5099,\n",
              "          0.5437, 0.2698],\n",
              "         [0.3454, 0.9377, 0.6801, 0.9337, 0.4672, 0.5047, 0.0877, 0.0223,\n",
              "          0.0979, 0.0526],\n",
              "         [0.8298, 0.9463, 0.0509, 0.7409, 0.6138, 0.8132, 0.0442, 0.8102,\n",
              "          0.3355, 0.5564],\n",
              "         [0.3100, 0.4792, 0.5030, 0.7838, 0.6836, 0.8045, 0.5631, 0.7563,\n",
              "          0.4958, 0.6355]],\n",
              "\n",
              "        [[0.3771, 0.7399, 0.3560, 0.3713, 0.1811, 0.8295, 0.5713, 0.4265,\n",
              "          0.8687, 0.1771],\n",
              "         [0.9509, 0.3524, 0.9214, 0.7099, 0.2844, 0.2878, 0.7326, 0.6455,\n",
              "          0.5447, 0.1473],\n",
              "         [0.2236, 0.4771, 0.4271, 0.2872, 0.4619, 0.2944, 0.1262, 0.5570,\n",
              "          0.0661, 0.9263],\n",
              "         [0.9340, 0.9087, 0.7434, 0.2362, 0.5947, 0.4623, 0.4794, 0.9261,\n",
              "          0.9296, 0.2336],\n",
              "         [0.6971, 0.9995, 0.5179, 0.9977, 0.1932, 0.0546, 0.9040, 0.3213,\n",
              "          0.7169, 0.6580],\n",
              "         [0.6861, 0.0743, 0.6832, 0.2658, 0.1874, 0.1209, 0.5224, 0.4258,\n",
              "          0.2982, 0.1815],\n",
              "         [0.1284, 0.8017, 0.7685, 0.0906, 0.3156, 0.0512, 0.2583, 0.1844,\n",
              "          0.6685, 0.3440],\n",
              "         [0.5673, 0.2480, 0.9422, 0.0365, 0.7085, 0.5494, 0.3601, 0.6249,\n",
              "          0.8389, 0.1642],\n",
              "         [0.1446, 0.0417, 0.8832, 0.4108, 0.8889, 0.3967, 0.6774, 0.0281,\n",
              "          0.7654, 0.5777],\n",
              "         [0.0465, 0.1608, 0.6100, 0.5521, 0.5407, 0.5705, 0.7671, 0.9167,\n",
              "          0.1476, 0.4807]],\n",
              "\n",
              "        [[0.4498, 0.6498, 0.0463, 0.8035, 0.8838, 0.4536, 0.7238, 0.1563,\n",
              "          0.2364, 0.9429],\n",
              "         [0.7760, 0.1350, 0.9787, 0.6760, 0.2998, 0.5088, 0.7656, 0.3637,\n",
              "          0.7426, 0.6081],\n",
              "         [0.4527, 0.4700, 0.1092, 0.1273, 0.2602, 0.5525, 0.1821, 0.8608,\n",
              "          0.1991, 0.9084],\n",
              "         [0.8708, 0.6820, 0.8952, 0.1478, 0.5341, 0.8978, 0.1707, 0.6531,\n",
              "          0.2344, 0.3487],\n",
              "         [0.3467, 0.8080, 0.1266, 0.2620, 0.6497, 0.8518, 0.2751, 0.4713,\n",
              "          0.2744, 0.5758],\n",
              "         [0.8704, 0.6356, 0.4979, 0.4001, 0.1435, 0.4603, 0.6095, 0.9843,\n",
              "          0.4034, 0.3318],\n",
              "         [0.6875, 0.3195, 0.3095, 0.8220, 0.0825, 0.6006, 0.8455, 0.7405,\n",
              "          0.4680, 0.8921],\n",
              "         [0.3565, 0.2454, 0.7227, 0.4797, 0.0279, 0.0320, 0.6779, 0.7666,\n",
              "          0.3429, 0.4575],\n",
              "         [0.0436, 0.0143, 0.8936, 0.1866, 0.1856, 0.3585, 0.8108, 0.7197,\n",
              "          0.7828, 0.4630],\n",
              "         [0.7681, 0.9222, 0.2008, 0.9273, 0.2199, 0.5240, 0.2687, 0.4801,\n",
              "          0.9124, 0.3362]],\n",
              "\n",
              "        [[0.3389, 0.4697, 0.8477, 0.7114, 0.6858, 0.1941, 0.4317, 0.5864,\n",
              "          0.8092, 0.0573],\n",
              "         [0.6332, 0.3806, 0.1448, 0.2447, 0.7986, 0.1503, 0.9378, 0.3394,\n",
              "          0.1467, 0.9743],\n",
              "         [0.8696, 0.1110, 0.5467, 0.5218, 0.7375, 0.6471, 0.3240, 0.7389,\n",
              "          0.0188, 0.8134],\n",
              "         [0.1168, 0.4964, 0.7176, 0.2191, 0.8297, 0.3514, 0.4242, 0.3987,\n",
              "          0.4707, 0.3481],\n",
              "         [0.8472, 0.8166, 0.9467, 0.7716, 0.7861, 0.2530, 0.3254, 0.8319,\n",
              "          0.5691, 0.7290],\n",
              "         [0.5032, 0.3486, 0.9699, 0.8319, 0.6000, 0.8109, 0.7192, 0.1141,\n",
              "          0.7555, 0.8303],\n",
              "         [0.0233, 0.4102, 0.1302, 0.2644, 0.2000, 0.6133, 0.7835, 0.2338,\n",
              "          0.8442, 0.5285],\n",
              "         [0.0674, 0.3468, 0.1031, 0.0605, 0.1988, 0.9224, 0.4248, 0.2848,\n",
              "          0.4822, 0.3525],\n",
              "         [0.5290, 0.4948, 0.5056, 0.2238, 0.0096, 0.8968, 0.9740, 0.9806,\n",
              "          0.2417, 0.5305],\n",
              "         [0.2754, 0.2573, 0.4667, 0.8719, 0.3311, 0.6685, 0.1061, 0.3690,\n",
              "          0.3120, 0.0399]],\n",
              "\n",
              "        [[0.6055, 0.9352, 0.9808, 0.1868, 0.8441, 0.2733, 0.7649, 0.5118,\n",
              "          0.7188, 0.6804],\n",
              "         [0.9978, 0.2503, 0.0632, 0.6902, 0.2412, 0.7238, 0.9132, 0.0329,\n",
              "          0.7813, 0.6184],\n",
              "         [0.1077, 0.6876, 0.6332, 0.5735, 0.7107, 0.9712, 0.1311, 0.2936,\n",
              "          0.9121, 0.5308],\n",
              "         [0.6907, 0.7019, 0.5511, 0.0958, 0.5725, 0.5365, 0.9099, 0.8505,\n",
              "          0.1895, 0.9490],\n",
              "         [0.2441, 0.1014, 0.7485, 0.2873, 0.9189, 0.7447, 0.8673, 0.0603,\n",
              "          0.6696, 0.7878],\n",
              "         [0.2427, 0.7596, 0.2729, 0.9824, 0.6012, 0.1436, 0.8545, 0.4901,\n",
              "          0.2204, 0.6654],\n",
              "         [0.0992, 0.4621, 0.1809, 0.3097, 0.3611, 0.4301, 0.1638, 0.6936,\n",
              "          0.6593, 0.1847],\n",
              "         [0.3997, 0.3049, 0.7167, 0.5802, 0.5411, 0.1728, 0.9269, 0.6079,\n",
              "          0.1150, 0.5971],\n",
              "         [0.3493, 0.8083, 0.7747, 0.2599, 0.8514, 0.8014, 0.2624, 0.8756,\n",
              "          0.1455, 0.3395],\n",
              "         [0.6601, 0.0954, 0.8422, 0.4099, 0.4615, 0.6194, 0.2115, 0.4211,\n",
              "          0.2111, 0.2745]],\n",
              "\n",
              "        [[0.6271, 0.3424, 0.3189, 0.1966, 0.2452, 0.7629, 0.0138, 0.5472,\n",
              "          0.6697, 0.2138],\n",
              "         [0.0244, 0.9874, 0.0670, 0.9308, 0.2740, 0.7764, 0.0256, 0.1999,\n",
              "          0.3969, 0.2190],\n",
              "         [0.4035, 0.9640, 0.7995, 0.7156, 0.7268, 0.1028, 0.2087, 0.9615,\n",
              "          0.4267, 0.3124],\n",
              "         [0.0959, 0.6504, 0.5572, 0.1897, 0.4520, 0.4822, 0.9795, 0.2766,\n",
              "          0.7652, 0.9574],\n",
              "         [0.2263, 0.0069, 0.7291, 0.2348, 0.1118, 0.6708, 0.5379, 0.6771,\n",
              "          0.7613, 0.0028],\n",
              "         [0.3113, 0.4544, 0.3658, 0.0684, 0.7065, 0.7080, 0.7227, 0.8447,\n",
              "          0.9223, 0.2340],\n",
              "         [0.0610, 0.9785, 0.1061, 0.2247, 0.1269, 0.8249, 0.6258, 0.4740,\n",
              "          0.1212, 0.1594],\n",
              "         [0.9727, 0.1402, 0.8258, 0.1715, 0.3954, 0.0138, 0.9864, 0.4998,\n",
              "          0.4540, 0.9922],\n",
              "         [0.4554, 0.6006, 0.5783, 0.2001, 0.6278, 0.8958, 0.8267, 0.2987,\n",
              "          0.1636, 0.5165],\n",
              "         [0.5512, 0.0757, 0.7377, 0.6167, 0.1600, 0.4831, 0.1151, 0.5764,\n",
              "          0.2887, 0.0611]],\n",
              "\n",
              "        [[0.3291, 0.6941, 0.3792, 0.6952, 0.2507, 0.6930, 0.7585, 0.0654,\n",
              "          0.8805, 0.8575],\n",
              "         [0.6558, 0.7213, 0.6639, 0.0319, 0.9371, 0.9057, 0.6768, 0.6055,\n",
              "          0.6738, 0.1484],\n",
              "         [0.7837, 0.1961, 0.2667, 0.9667, 0.9242, 0.8297, 0.3559, 0.5778,\n",
              "          0.1333, 0.6977],\n",
              "         [0.6971, 0.7506, 0.9655, 0.8066, 0.6498, 0.3441, 0.2471, 0.8240,\n",
              "          0.3883, 0.9730],\n",
              "         [0.6964, 0.5302, 0.9463, 0.6289, 0.7724, 0.6947, 0.5802, 0.2386,\n",
              "          0.7190, 0.0099],\n",
              "         [0.3976, 0.5021, 0.3270, 0.5489, 0.6794, 0.2392, 0.4354, 0.2220,\n",
              "          0.6826, 0.2544],\n",
              "         [0.7848, 0.1701, 0.9110, 0.3004, 0.9718, 0.3055, 0.3030, 0.0792,\n",
              "          0.3156, 0.6833],\n",
              "         [0.0211, 0.4850, 0.7417, 0.1533, 0.9563, 0.6034, 0.6266, 0.6138,\n",
              "          0.8924, 0.7485],\n",
              "         [0.7533, 0.3457, 0.9946, 0.4625, 0.7221, 0.0655, 0.1332, 0.4554,\n",
              "          0.4150, 0.0094],\n",
              "         [0.6682, 0.1265, 0.3653, 0.9792, 0.5317, 0.8166, 0.5506, 0.5530,\n",
              "          0.2805, 0.3653]],\n",
              "\n",
              "        [[0.6733, 0.3937, 0.9280, 0.0122, 0.6127, 0.0920, 0.2088, 0.8396,\n",
              "          0.9530, 0.3278],\n",
              "         [0.9057, 0.6063, 0.4710, 0.0177, 0.1460, 0.3731, 0.3690, 0.3913,\n",
              "          0.5504, 0.7086],\n",
              "         [0.6287, 0.5171, 0.1507, 0.6059, 0.1725, 0.0513, 0.8862, 0.3893,\n",
              "          0.6269, 0.2501],\n",
              "         [0.9875, 0.5698, 0.5253, 0.1578, 0.9390, 0.2893, 0.7968, 0.5679,\n",
              "          0.9407, 0.5793],\n",
              "         [0.4651, 0.2176, 0.2016, 0.2506, 0.6120, 0.1506, 0.2739, 0.2712,\n",
              "          0.4916, 0.1990],\n",
              "         [0.6489, 0.1038, 0.9768, 0.1686, 0.9816, 0.5801, 0.8175, 0.6638,\n",
              "          0.1000, 0.3367],\n",
              "         [0.1457, 0.0308, 0.8440, 0.4584, 0.5193, 0.4289, 0.5058, 0.9671,\n",
              "          0.4200, 0.3960],\n",
              "         [0.8433, 0.3097, 0.9208, 0.4966, 0.6205, 0.2720, 0.2636, 0.1031,\n",
              "          0.1372, 0.2263],\n",
              "         [0.3850, 0.7934, 0.3356, 0.2071, 0.0261, 0.4760, 0.1976, 0.9493,\n",
              "          0.6241, 0.9743],\n",
              "         [0.2526, 0.9372, 0.9528, 0.3394, 0.9124, 0.4705, 0.9638, 0.5766,\n",
              "          0.2687, 0.7371]],\n",
              "\n",
              "        [[0.1742, 0.1317, 0.3603, 0.1881, 0.5135, 0.8770, 0.0132, 0.0739,\n",
              "          0.9904, 0.3887],\n",
              "         [0.0052, 0.6255, 0.5963, 0.5725, 0.3758, 0.4454, 0.6813, 0.4142,\n",
              "          0.6058, 0.7075],\n",
              "         [0.8147, 0.7497, 0.6969, 0.7267, 0.6175, 0.8810, 0.2331, 0.1928,\n",
              "          0.1047, 0.6484],\n",
              "         [0.7745, 0.7976, 0.4519, 0.6977, 0.0590, 0.3769, 0.3675, 0.5082,\n",
              "          0.7743, 0.5642],\n",
              "         [0.1077, 0.3572, 0.8837, 0.5574, 0.2091, 0.7585, 0.5809, 0.7975,\n",
              "          0.6106, 0.0476],\n",
              "         [0.5434, 0.7022, 0.9043, 0.9298, 0.3579, 0.0499, 0.6342, 0.8085,\n",
              "          0.7733, 0.8471],\n",
              "         [0.2380, 0.2673, 0.6507, 0.7551, 0.9882, 0.3887, 0.1624, 0.0640,\n",
              "          0.7872, 0.4699],\n",
              "         [0.3486, 0.4473, 0.2009, 0.3606, 0.8414, 0.0646, 0.6418, 0.0191,\n",
              "          0.4364, 0.4467],\n",
              "         [0.9786, 0.3192, 0.6066, 0.5901, 0.1100, 0.9027, 0.2364, 0.2233,\n",
              "          0.4781, 0.9775],\n",
              "         [0.6292, 0.5351, 0.6752, 0.7412, 0.3897, 0.8473, 0.5559, 0.5360,\n",
              "          0.6247, 0.7685]],\n",
              "\n",
              "        [[0.7505, 0.5527, 0.3080, 0.8045, 0.2764, 0.3023, 0.6148, 0.1548,\n",
              "          0.4544, 0.8501],\n",
              "         [0.3937, 0.9651, 0.6641, 0.5443, 0.8971, 0.2069, 0.1900, 0.6797,\n",
              "          0.8587, 0.3633],\n",
              "         [0.7157, 0.8182, 0.2241, 0.3197, 0.7272, 0.5267, 0.5256, 0.9379,\n",
              "          0.0289, 0.1521],\n",
              "         [0.6307, 0.5350, 0.0696, 0.7267, 0.2028, 0.1614, 0.8874, 0.2146,\n",
              "          0.9844, 0.5801],\n",
              "         [0.2982, 0.7488, 0.5530, 0.5572, 0.9072, 0.4151, 0.1797, 0.8469,\n",
              "          0.4186, 0.5360],\n",
              "         [0.7079, 0.8155, 0.6682, 0.0598, 0.4442, 0.1689, 0.2620, 0.6426,\n",
              "          0.2946, 0.6062],\n",
              "         [0.4856, 0.6648, 0.7729, 0.5169, 0.0182, 0.0131, 0.0913, 0.4912,\n",
              "          0.1385, 0.0511],\n",
              "         [0.0083, 0.6137, 0.8173, 0.7701, 0.6508, 0.9243, 0.9972, 0.6602,\n",
              "          0.1252, 0.1386],\n",
              "         [0.9520, 0.0229, 0.4682, 0.8075, 0.8023, 0.1990, 0.3725, 0.6759,\n",
              "          0.4022, 0.4498],\n",
              "         [0.0467, 0.0318, 0.4021, 0.8846, 0.6529, 0.4290, 0.1812, 0.2339,\n",
              "          0.6612, 0.0616]]])"
            ]
          },
          "metadata": {},
          "execution_count": 8
        }
      ]
    },
    {
      "cell_type": "code",
      "source": [
        "random_tensor.ndim"
      ],
      "metadata": {
        "colab": {
          "base_uri": "https://localhost:8080/"
        },
        "id": "IDA32GGVzbKl",
        "outputId": "3d0798de-1520-4279-e167-781367176535"
      },
      "execution_count": null,
      "outputs": [
        {
          "output_type": "execute_result",
          "data": {
            "text/plain": [
              "3"
            ]
          },
          "metadata": {},
          "execution_count": 9
        }
      ]
    },
    {
      "cell_type": "code",
      "source": [
        " #Random Tensor With shape of an image\n",
        " random_image = torch.rand(size = (224,224,3 )) #height, width Colour Channel"
      ],
      "metadata": {
        "id": "hTzTbaQWzdNA"
      },
      "execution_count": null,
      "outputs": []
    },
    {
      "cell_type": "code",
      "source": [
        "random_image, random_image.shape"
      ],
      "metadata": {
        "colab": {
          "base_uri": "https://localhost:8080/"
        },
        "id": "DJ9B7wNV4zuF",
        "outputId": "bc0c90c7-3b59-419a-ffd0-7bd6645127d5"
      },
      "execution_count": null,
      "outputs": [
        {
          "output_type": "execute_result",
          "data": {
            "text/plain": [
              "(tensor([[[0.9813, 0.3143, 0.6326],\n",
              "          [0.1661, 0.5788, 0.1751],\n",
              "          [0.3234, 0.9095, 0.2184],\n",
              "          ...,\n",
              "          [0.2495, 0.9257, 0.3445],\n",
              "          [0.6480, 0.0211, 0.7705],\n",
              "          [0.4762, 0.0825, 0.0881]],\n",
              " \n",
              "         [[0.7285, 0.2052, 0.1299],\n",
              "          [0.0909, 0.0954, 0.9223],\n",
              "          [0.2279, 0.3581, 0.4609],\n",
              "          ...,\n",
              "          [0.5817, 0.2672, 0.8893],\n",
              "          [0.6872, 0.0581, 0.4127],\n",
              "          [0.2901, 0.2855, 0.6749]],\n",
              " \n",
              "         [[0.9771, 0.0984, 0.2045],\n",
              "          [0.6183, 0.6631, 0.3555],\n",
              "          [0.5170, 0.5541, 0.8990],\n",
              "          ...,\n",
              "          [0.8001, 0.8244, 0.7063],\n",
              "          [0.4884, 0.7288, 0.3348],\n",
              "          [0.1366, 0.5445, 0.4284]],\n",
              " \n",
              "         ...,\n",
              " \n",
              "         [[0.6315, 0.8438, 0.5296],\n",
              "          [0.4777, 0.0649, 0.8083],\n",
              "          [0.3373, 0.4109, 0.7178],\n",
              "          ...,\n",
              "          [0.7687, 0.6929, 0.0410],\n",
              "          [0.3266, 0.1388, 0.4458],\n",
              "          [0.4721, 0.5912, 0.4016]],\n",
              " \n",
              "         [[0.3063, 0.4120, 0.3682],\n",
              "          [0.0094, 0.2421, 0.2091],\n",
              "          [0.2979, 0.1659, 0.4193],\n",
              "          ...,\n",
              "          [0.4526, 0.2797, 0.5238],\n",
              "          [0.3492, 0.8823, 0.8687],\n",
              "          [0.7605, 0.8634, 0.1403]],\n",
              " \n",
              "         [[0.5090, 0.0028, 0.7207],\n",
              "          [0.6657, 0.8219, 0.3192],\n",
              "          [0.9042, 0.0174, 0.8233],\n",
              "          ...,\n",
              "          [0.9188, 0.2016, 0.4887],\n",
              "          [0.8284, 0.9628, 0.5750],\n",
              "          [0.4875, 0.5052, 0.3215]]]),\n",
              " torch.Size([224, 224, 3]))"
            ]
          },
          "metadata": {},
          "execution_count": 11
        }
      ]
    },
    {
      "cell_type": "markdown",
      "source": [
        "### zeros and Ones"
      ],
      "metadata": {
        "id": "agd5O9Vb42El"
      }
    },
    {
      "cell_type": "code",
      "source": [
        "#Tensor of all zeros\n",
        "#zeros are usually used for masking\n",
        "\n",
        "zero = torch.zeros(size=(3,4))\n",
        "zero"
      ],
      "metadata": {
        "colab": {
          "base_uri": "https://localhost:8080/"
        },
        "id": "jhGotJ1C51CL",
        "outputId": "0acc7fe3-268e-461a-d23b-918df06a325a"
      },
      "execution_count": null,
      "outputs": [
        {
          "output_type": "execute_result",
          "data": {
            "text/plain": [
              "tensor([[0., 0., 0., 0.],\n",
              "        [0., 0., 0., 0.],\n",
              "        [0., 0., 0., 0.]])"
            ]
          },
          "metadata": {},
          "execution_count": 12
        }
      ]
    },
    {
      "cell_type": "code",
      "source": [
        "#Tensor of all Ones\n",
        "\n",
        "ones = torch.ones(size=(3,4))\n",
        "ones"
      ],
      "metadata": {
        "colab": {
          "base_uri": "https://localhost:8080/"
        },
        "id": "yrbhfQCk59fQ",
        "outputId": "296750d6-b542-4e85-e7f6-668c3f9ca140"
      },
      "execution_count": null,
      "outputs": [
        {
          "output_type": "execute_result",
          "data": {
            "text/plain": [
              "tensor([[1., 1., 1., 1.],\n",
              "        [1., 1., 1., 1.],\n",
              "        [1., 1., 1., 1.]])"
            ]
          },
          "metadata": {},
          "execution_count": 13
        }
      ]
    },
    {
      "cell_type": "code",
      "source": [
        "#data type of tensors\n",
        "ones.dtype,zero.dtype,random_image.dtype"
      ],
      "metadata": {
        "colab": {
          "base_uri": "https://localhost:8080/"
        },
        "id": "tqgKk9N46Q5B",
        "outputId": "2bf9fad1-81e1-45c9-83dd-e1ce5c2c98ba"
      },
      "execution_count": null,
      "outputs": [
        {
          "output_type": "execute_result",
          "data": {
            "text/plain": [
              "(torch.float32, torch.float32, torch.float32)"
            ]
          },
          "metadata": {},
          "execution_count": 14
        }
      ]
    },
    {
      "cell_type": "markdown",
      "source": [
        "# Creating Range of Tensors and tensors-like"
      ],
      "metadata": {
        "id": "I1WJhri-6eNC"
      }
    },
    {
      "cell_type": "code",
      "source": [
        "range_tensor  = torch.arange(start=0, end = 1000, step = 77)"
      ],
      "metadata": {
        "id": "yEiHHInL7DZK"
      },
      "execution_count": null,
      "outputs": []
    },
    {
      "cell_type": "code",
      "source": [
        "#creating tensors alike\n",
        "alike_tensor = torch.zeros_like(input=range_tensor)\n"
      ],
      "metadata": {
        "id": "Ss77WoeA7SXG"
      },
      "execution_count": null,
      "outputs": []
    },
    {
      "cell_type": "code",
      "source": [
        "alike_tensor"
      ],
      "metadata": {
        "colab": {
          "base_uri": "https://localhost:8080/"
        },
        "id": "RWeHxkDG-xGi",
        "outputId": "9434f29f-368c-4167-ae17-a88d768df20c"
      },
      "execution_count": null,
      "outputs": [
        {
          "output_type": "execute_result",
          "data": {
            "text/plain": [
              "tensor([0, 0, 0, 0, 0, 0, 0, 0, 0, 0, 0, 0, 0])"
            ]
          },
          "metadata": {},
          "execution_count": 17
        }
      ]
    },
    {
      "cell_type": "markdown",
      "source": [
        "## Tensor Datatypes\n",
        "\n",
        "#Tensor Datatypes is one of the 3 big erros one can run into with pytorch and deep learning\n",
        "\n",
        "1. Tensors not right datatype (Some Ops may not work)\n",
        "2. Tensors not right Shape\n",
        "3. Tensors not on the right device\n",
        "\n"
      ],
      "metadata": {
        "id": "N49lZAOZ-yZ4"
      }
    },
    {
      "cell_type": "code",
      "source": [
        "#Tensor Datatypes\n",
        "#Default Datatype for tensor is float32\n",
        "\n",
        "float_32_tensor  = torch.tensor([3.0,4.0,5.0],dtype = None,\n",
        "                                device = 'cpu', #what device the tensor is on\n",
        "                                requires_grad = False)\n",
        "float_32_tensor.dtype"
      ],
      "metadata": {
        "colab": {
          "base_uri": "https://localhost:8080/"
        },
        "id": "zwni5krn_fYJ",
        "outputId": "a781ca69-bfc8-4111-beba-8f009bd4ac90"
      },
      "execution_count": null,
      "outputs": [
        {
          "output_type": "execute_result",
          "data": {
            "text/plain": [
              "torch.float32"
            ]
          },
          "metadata": {},
          "execution_count": 18
        }
      ]
    },
    {
      "cell_type": "code",
      "source": [
        "#Changing the datatype of tha tensor\n",
        "\n",
        "float_16_tensor = float_32_tensor.type(torch.float16)\n",
        "float_16_tensor.dtype"
      ],
      "metadata": {
        "colab": {
          "base_uri": "https://localhost:8080/"
        },
        "id": "5FqE2YDx_f-9",
        "outputId": "1cbb6ed2-1424-4e77-92a9-314b417bb880"
      },
      "execution_count": null,
      "outputs": [
        {
          "output_type": "execute_result",
          "data": {
            "text/plain": [
              "torch.float16"
            ]
          },
          "metadata": {},
          "execution_count": 19
        }
      ]
    },
    {
      "cell_type": "code",
      "source": [
        "#Getting Shape, Data Type and Device of a Tensor\n",
        "\n",
        "float_16_tensor.dtype,float_16_tensor.shape,float_16_tensor.device"
      ],
      "metadata": {
        "colab": {
          "base_uri": "https://localhost:8080/"
        },
        "id": "tuR2Y0SAOU2e",
        "outputId": "a77fab4e-c155-4d43-aef7-9474480f8b9d"
      },
      "execution_count": null,
      "outputs": [
        {
          "output_type": "execute_result",
          "data": {
            "text/plain": [
              "(torch.float16, torch.Size([3]), device(type='cpu'))"
            ]
          },
          "metadata": {},
          "execution_count": 20
        }
      ]
    },
    {
      "cell_type": "code",
      "source": [
        "#Creating a random tensor with a datatype\n",
        "\n",
        "rand = torch.rand(size = (1,3), dtype = torch.float16)\n",
        "rand"
      ],
      "metadata": {
        "colab": {
          "base_uri": "https://localhost:8080/"
        },
        "id": "fW6u_zqEQyky",
        "outputId": "c4dca105-b3d7-4254-cd55-fbd2450e51bc"
      },
      "execution_count": null,
      "outputs": [
        {
          "output_type": "execute_result",
          "data": {
            "text/plain": [
              "tensor([[0.7676, 0.2510, 0.9717]], dtype=torch.float16)"
            ]
          },
          "metadata": {},
          "execution_count": 21
        }
      ]
    },
    {
      "cell_type": "code",
      "source": [
        "#Manipulating Tensors\n",
        "\n",
        "\n",
        "tensor_ops = torch.rand(1,3)\n",
        "tensor_ops"
      ],
      "metadata": {
        "colab": {
          "base_uri": "https://localhost:8080/"
        },
        "id": "-y4MZ8nQSqLo",
        "outputId": "aad0a9e0-8cf4-449c-f3a9-292ab507280d"
      },
      "execution_count": null,
      "outputs": [
        {
          "output_type": "execute_result",
          "data": {
            "text/plain": [
              "tensor([[0.3705, 0.5383, 0.5833]])"
            ]
          },
          "metadata": {},
          "execution_count": 22
        }
      ]
    },
    {
      "cell_type": "code",
      "source": [
        "tensor_ops + 100"
      ],
      "metadata": {
        "colab": {
          "base_uri": "https://localhost:8080/"
        },
        "id": "V0pR1RxNT5pX",
        "outputId": "ac1f360f-10d0-4cf9-ef94-e6a0c16b12b4"
      },
      "execution_count": null,
      "outputs": [
        {
          "output_type": "execute_result",
          "data": {
            "text/plain": [
              "tensor([[100.3705, 100.5383, 100.5833]])"
            ]
          },
          "metadata": {},
          "execution_count": 23
        }
      ]
    },
    {
      "cell_type": "code",
      "source": [
        "tensor_ops * 100"
      ],
      "metadata": {
        "colab": {
          "base_uri": "https://localhost:8080/"
        },
        "id": "BuxbXR1aUCCl",
        "outputId": "6129338d-b611-4851-8a7b-34b4ef049628"
      },
      "execution_count": null,
      "outputs": [
        {
          "output_type": "execute_result",
          "data": {
            "text/plain": [
              "tensor([[37.0496, 53.8318, 58.3329]])"
            ]
          },
          "metadata": {},
          "execution_count": 24
        }
      ]
    },
    {
      "cell_type": "code",
      "source": [
        "tensor_ops - 10"
      ],
      "metadata": {
        "colab": {
          "base_uri": "https://localhost:8080/"
        },
        "id": "xcM-2C6UUOG7",
        "outputId": "0e30f8ac-fc80-4f16-e29b-8c4755151629"
      },
      "execution_count": null,
      "outputs": [
        {
          "output_type": "execute_result",
          "data": {
            "text/plain": [
              "tensor([[-9.6295, -9.4617, -9.4167]])"
            ]
          },
          "metadata": {},
          "execution_count": 25
        }
      ]
    },
    {
      "cell_type": "markdown",
      "source": [
        "## Two type of multiplication\n",
        "\n",
        "\n",
        "###Element Wise\n",
        "######(done above)\n",
        "\n",
        "###Matrix multiplication ( dot p)\n",
        "#### Two rules must be following\n",
        "####1. Inner Dimension must match\n",
        "####2. Resulting Matrix Will be in outer Dimention"
      ],
      "metadata": {
        "id": "X9TOrnLaUSsI"
      }
    },
    {
      "cell_type": "code",
      "source": [
        "#torch.mm(tensor_ops,tensor_ops)\n",
        "#Error as inner dimensions donot match\n"
      ],
      "metadata": {
        "id": "iv8zO2bXUohG"
      },
      "execution_count": null,
      "outputs": []
    },
    {
      "cell_type": "code",
      "source": [
        "tensor2 = tensor_ops.T\n",
        "#now with transpose we could now multiply"
      ],
      "metadata": {
        "id": "rPvVHiwydzFj"
      },
      "execution_count": null,
      "outputs": []
    },
    {
      "cell_type": "code",
      "source": [
        "torch.mm(tensor_ops,tensor2)"
      ],
      "metadata": {
        "colab": {
          "base_uri": "https://localhost:8080/"
        },
        "id": "FhP3EOJprf7w",
        "outputId": "b77f5b0a-278a-40f3-c907-0d0e6297e0dc"
      },
      "execution_count": null,
      "outputs": [
        {
          "output_type": "execute_result",
          "data": {
            "text/plain": [
              "tensor([[0.7673]])"
            ]
          },
          "metadata": {},
          "execution_count": 28
        }
      ]
    },
    {
      "cell_type": "markdown",
      "source": [
        "##Tensor Aggregation (Finding min,max, mean, sum)"
      ],
      "metadata": {
        "id": "FctE1Pt8riS7"
      }
    },
    {
      "cell_type": "code",
      "source": [
        "tensor_agg = torch.arange(1,100,10)"
      ],
      "metadata": {
        "id": "VQ7WhwkdtAA8"
      },
      "execution_count": null,
      "outputs": []
    },
    {
      "cell_type": "code",
      "source": [
        "tensor_agg.min()"
      ],
      "metadata": {
        "colab": {
          "base_uri": "https://localhost:8080/"
        },
        "id": "M0hPXG35vse7",
        "outputId": "a3dc8d40-700f-49cc-f1e1-d93cd200194f"
      },
      "execution_count": null,
      "outputs": [
        {
          "output_type": "execute_result",
          "data": {
            "text/plain": [
              "tensor(1)"
            ]
          },
          "metadata": {},
          "execution_count": 30
        }
      ]
    },
    {
      "cell_type": "code",
      "source": [
        "tensor_agg.max()"
      ],
      "metadata": {
        "colab": {
          "base_uri": "https://localhost:8080/"
        },
        "id": "SlnxeeFuvu5n",
        "outputId": "4129173d-83f6-4714-fa94-0bceb173ae6a"
      },
      "execution_count": null,
      "outputs": [
        {
          "output_type": "execute_result",
          "data": {
            "text/plain": [
              "tensor(91)"
            ]
          },
          "metadata": {},
          "execution_count": 31
        }
      ]
    },
    {
      "cell_type": "code",
      "source": [
        "#tensor_agg.mean()\n",
        "#Error because tensor_agg have datatype\n",
        "# Now finding the right Datatype is crucial here\n",
        "# as we know tensor_agg have datatype long but mean function could be in float the datatypes are not matching hence we have to convert it to float\n",
        "torch.mean(tensor_agg.type(torch.float32))"
      ],
      "metadata": {
        "colab": {
          "base_uri": "https://localhost:8080/"
        },
        "id": "jZhNBWaUvz7_",
        "outputId": "59dd6e8f-f560-448a-8b83-b62ce141312b"
      },
      "execution_count": null,
      "outputs": [
        {
          "output_type": "execute_result",
          "data": {
            "text/plain": [
              "tensor(46.)"
            ]
          },
          "metadata": {},
          "execution_count": 32
        }
      ]
    },
    {
      "cell_type": "markdown",
      "source": [
        "## Finding the positional min and max\n",
        "## Index of  min and max"
      ],
      "metadata": {
        "id": "GAqRg8YYv18B"
      }
    },
    {
      "cell_type": "code",
      "source": [
        "tensor_agg.argmin()"
      ],
      "metadata": {
        "colab": {
          "base_uri": "https://localhost:8080/"
        },
        "id": "YQe_3p4KbpOK",
        "outputId": "ae0b8ee8-481c-4314-eccb-b3b5d18624c2"
      },
      "execution_count": null,
      "outputs": [
        {
          "output_type": "execute_result",
          "data": {
            "text/plain": [
              "tensor(0)"
            ]
          },
          "metadata": {},
          "execution_count": 33
        }
      ]
    },
    {
      "cell_type": "code",
      "source": [
        "tensor_agg.argmax()"
      ],
      "metadata": {
        "colab": {
          "base_uri": "https://localhost:8080/"
        },
        "id": "33arBHYCb1JX",
        "outputId": "dd4796a2-51cd-4cca-abb2-951e36a56ee2"
      },
      "execution_count": null,
      "outputs": [
        {
          "output_type": "execute_result",
          "data": {
            "text/plain": [
              "tensor(9)"
            ]
          },
          "metadata": {},
          "execution_count": 34
        }
      ]
    },
    {
      "cell_type": "markdown",
      "source": [
        "## Reshaping, Stacking, Squeezing and Unsqueezing\n",
        "\n",
        "* Reshaping - Reshapes an input tensor to a defined shape\n",
        "* View - Return a view of an input tensor of certain shape but keep the same memory as the original torch.tensor\n",
        "* Stacking - Combine multiple tensors on top of each other (vstack) or side by side (hstack)\n",
        "* Squeeze - Removes all '1' dimensions from a tensor\n",
        "* Unsqueeze - Add a '1' dimension to a target tensor\n",
        "* Permute - Return a view of the input with dimensions permuted (swapped) in a certain way"
      ],
      "metadata": {
        "id": "Fhs5ksfhb8SJ"
      }
    },
    {
      "cell_type": "code",
      "source": [
        "#Reshaping\n",
        "\n",
        "import torch\n",
        "x= torch.arange(1,10)\n",
        "x"
      ],
      "metadata": {
        "colab": {
          "base_uri": "https://localhost:8080/"
        },
        "id": "YKzCOUi4dBII",
        "outputId": "dd4eb22d-69c7-4e3c-9388-584f3ebfc0d1"
      },
      "execution_count": 5,
      "outputs": [
        {
          "output_type": "execute_result",
          "data": {
            "text/plain": [
              "tensor([1, 2, 3, 4, 5, 6, 7, 8, 9])"
            ]
          },
          "metadata": {},
          "execution_count": 5
        }
      ]
    },
    {
      "cell_type": "code",
      "source": [
        "x.shape"
      ],
      "metadata": {
        "colab": {
          "base_uri": "https://localhost:8080/"
        },
        "id": "32TK5OxIdoWz",
        "outputId": "ee270fa8-8d8a-40c9-f4b7-4537c8278ed2"
      },
      "execution_count": 6,
      "outputs": [
        {
          "output_type": "execute_result",
          "data": {
            "text/plain": [
              "torch.Size([9])"
            ]
          },
          "metadata": {},
          "execution_count": 6
        }
      ]
    },
    {
      "cell_type": "code",
      "source": [
        "x.reshape(9,1)"
      ],
      "metadata": {
        "colab": {
          "base_uri": "https://localhost:8080/"
        },
        "id": "kmLqjFisdrrB",
        "outputId": "c0d1d5dd-0205-4a21-cf0f-701f70f7142c"
      },
      "execution_count": 7,
      "outputs": [
        {
          "output_type": "execute_result",
          "data": {
            "text/plain": [
              "tensor([[1],\n",
              "        [2],\n",
              "        [3],\n",
              "        [4],\n",
              "        [5],\n",
              "        [6],\n",
              "        [7],\n",
              "        [8],\n",
              "        [9]])"
            ]
          },
          "metadata": {},
          "execution_count": 7
        }
      ]
    },
    {
      "cell_type": "code",
      "source": [
        "z=x.view(1,9) #same as reshape but new shape will have same reference as old one.\n",
        "z"
      ],
      "metadata": {
        "id": "CGVe1mGMduTu",
        "colab": {
          "base_uri": "https://localhost:8080/"
        },
        "outputId": "656aefc1-d103-479e-e90d-365d7c48d8a4"
      },
      "execution_count": 8,
      "outputs": [
        {
          "output_type": "execute_result",
          "data": {
            "text/plain": [
              "tensor([[1, 2, 3, 4, 5, 6, 7, 8, 9]])"
            ]
          },
          "metadata": {},
          "execution_count": 8
        }
      ]
    },
    {
      "cell_type": "code",
      "source": [
        "#stacking\n",
        "\n",
        "x_stacked = torch.stack([x,x,x,x])"
      ],
      "metadata": {
        "id": "8fY0VAUKqrAY"
      },
      "execution_count": 9,
      "outputs": []
    },
    {
      "cell_type": "code",
      "source": [
        "x_stacked"
      ],
      "metadata": {
        "colab": {
          "base_uri": "https://localhost:8080/"
        },
        "id": "ncoJaPiurHjf",
        "outputId": "aac6d708-1e96-44bd-c173-f8d98c0149c5"
      },
      "execution_count": 10,
      "outputs": [
        {
          "output_type": "execute_result",
          "data": {
            "text/plain": [
              "tensor([[1, 2, 3, 4, 5, 6, 7, 8, 9],\n",
              "        [1, 2, 3, 4, 5, 6, 7, 8, 9],\n",
              "        [1, 2, 3, 4, 5, 6, 7, 8, 9],\n",
              "        [1, 2, 3, 4, 5, 6, 7, 8, 9]])"
            ]
          },
          "metadata": {},
          "execution_count": 10
        }
      ]
    },
    {
      "cell_type": "code",
      "source": [
        "x_stacked = torch.stack([x,x,x,x], dim = 1)\n",
        "x_stacked"
      ],
      "metadata": {
        "colab": {
          "base_uri": "https://localhost:8080/"
        },
        "id": "Oq06bo4JrIjn",
        "outputId": "474a0a56-9394-4da6-bdb3-aabf354c9cba"
      },
      "execution_count": 11,
      "outputs": [
        {
          "output_type": "execute_result",
          "data": {
            "text/plain": [
              "tensor([[1, 1, 1, 1],\n",
              "        [2, 2, 2, 2],\n",
              "        [3, 3, 3, 3],\n",
              "        [4, 4, 4, 4],\n",
              "        [5, 5, 5, 5],\n",
              "        [6, 6, 6, 6],\n",
              "        [7, 7, 7, 7],\n",
              "        [8, 8, 8, 8],\n",
              "        [9, 9, 9, 9]])"
            ]
          },
          "metadata": {},
          "execution_count": 11
        }
      ]
    },
    {
      "cell_type": "code",
      "source": [
        "#squeeze removes all single dimensions\n",
        "x.size()"
      ],
      "metadata": {
        "colab": {
          "base_uri": "https://localhost:8080/"
        },
        "id": "5LgBKiVprSU7",
        "outputId": "6519c8c5-2807-4b86-ff35-e5561794d9e8"
      },
      "execution_count": 12,
      "outputs": [
        {
          "output_type": "execute_result",
          "data": {
            "text/plain": [
              "torch.Size([9])"
            ]
          },
          "metadata": {},
          "execution_count": 12
        }
      ]
    },
    {
      "cell_type": "code",
      "source": [
        "#since x has the single dimension of size 9 it has no 1 dimension so no effect will be of squeeze function\n",
        "x_new = torch.squeeze(x)\n",
        "x_new"
      ],
      "metadata": {
        "colab": {
          "base_uri": "https://localhost:8080/"
        },
        "id": "W-mvsM-ozl_1",
        "outputId": "c11e557c-ad2d-4664-eafd-7f60d1388854"
      },
      "execution_count": 13,
      "outputs": [
        {
          "output_type": "execute_result",
          "data": {
            "text/plain": [
              "tensor([1, 2, 3, 4, 5, 6, 7, 8, 9])"
            ]
          },
          "metadata": {},
          "execution_count": 13
        }
      ]
    },
    {
      "cell_type": "code",
      "source": [
        "x_new2 = x.unsqueeze()"
      ],
      "metadata": {
        "colab": {
          "base_uri": "https://localhost:8080/",
          "height": 146
        },
        "id": "Bj4SRpYBrolL",
        "outputId": "8f720a0a-c401-4676-e5cf-5754b06a064b"
      },
      "execution_count": 14,
      "outputs": [
        {
          "output_type": "error",
          "ename": "TypeError",
          "evalue": "unsqueeze() missing 1 required positional arguments: \"dim\"",
          "traceback": [
            "\u001b[0;31m---------------------------------------------------------------------------\u001b[0m",
            "\u001b[0;31mTypeError\u001b[0m                                 Traceback (most recent call last)",
            "\u001b[0;32m<ipython-input-14-f4d0e55ebe13>\u001b[0m in \u001b[0;36m<cell line: 1>\u001b[0;34m()\u001b[0m\n\u001b[0;32m----> 1\u001b[0;31m \u001b[0mx_new2\u001b[0m \u001b[0;34m=\u001b[0m \u001b[0mx\u001b[0m\u001b[0;34m.\u001b[0m\u001b[0munsqueeze\u001b[0m\u001b[0;34m(\u001b[0m\u001b[0;34m)\u001b[0m\u001b[0;34m\u001b[0m\u001b[0;34m\u001b[0m\u001b[0m\n\u001b[0m",
            "\u001b[0;31mTypeError\u001b[0m: unsqueeze() missing 1 required positional arguments: \"dim\""
          ]
        }
      ]
    },
    {
      "cell_type": "code",
      "source": [
        "#permutation\n",
        "img_tens  = torch.rand(size = (224,244,3))\n",
        "i"
      ],
      "metadata": {
        "id": "tTz386C4rr0S"
      },
      "execution_count": null,
      "outputs": []
    },
    {
      "cell_type": "code",
      "source": [
        "x.size()"
      ],
      "metadata": {
        "id": "3-ViHh-r3C7v"
      },
      "execution_count": null,
      "outputs": []
    },
    {
      "cell_type": "code",
      "source": [
        "x.permute(2,0,1).size()"
      ],
      "metadata": {
        "id": "5VJGdFl53Lov"
      },
      "execution_count": null,
      "outputs": []
    },
    {
      "cell_type": "markdown",
      "source": [
        "##Permutation\n",
        "\n",
        "####permutation is a view that means it shares the same memory as the original tensor"
      ],
      "metadata": {
        "id": "zJ_h6FM33ZuK"
      }
    },
    {
      "cell_type": "code",
      "source": [
        "\n",
        "import torch\n",
        "image_tensor = torch.rand(size = (224,224,3))"
      ],
      "metadata": {
        "id": "mAr8stHKewt3"
      },
      "execution_count": 16,
      "outputs": []
    },
    {
      "cell_type": "code",
      "source": [
        "permuted_ = image_tensor.permute(2,0,1)\n",
        "permuted_.size()"
      ],
      "metadata": {
        "colab": {
          "base_uri": "https://localhost:8080/"
        },
        "id": "qFWgU8XGd9I2",
        "outputId": "47e92d8f-abb6-4257-dfc7-afdaa279619f"
      },
      "execution_count": 18,
      "outputs": [
        {
          "output_type": "execute_result",
          "data": {
            "text/plain": [
              "torch.Size([3, 224, 224])"
            ]
          },
          "metadata": {},
          "execution_count": 18
        }
      ]
    },
    {
      "cell_type": "markdown",
      "source": [
        "##Indexing\n",
        "\n",
        "####Selecting Data from indexing\n",
        "\n",
        "#similar to that of numpy"
      ],
      "metadata": {
        "id": "xqb5cn28gWbT"
      }
    },
    {
      "cell_type": "code",
      "source": [
        "image_tensor[0,0,0] , permuted_[0,0,0]"
      ],
      "metadata": {
        "colab": {
          "base_uri": "https://localhost:8080/"
        },
        "id": "NiqTK9gRo8sO",
        "outputId": "b3c99b84-0406-47ec-a887-43e6b5235eda"
      },
      "execution_count": 25,
      "outputs": [
        {
          "output_type": "execute_result",
          "data": {
            "text/plain": [
              "(tensor(0.0800), tensor(0.0800))"
            ]
          },
          "metadata": {},
          "execution_count": 25
        }
      ]
    },
    {
      "cell_type": "markdown",
      "source": [
        "##numpy to pytorch\n",
        "#### torch.from_numpy(ndarray)\n",
        "##pytorch to numpy\n",
        "#### torch.tensor.numpy()\n",
        "\n",
        "\n",
        "###numpy default datatype is float64 and torch datatype is float 32\n"
      ],
      "metadata": {
        "id": "9L-Y7BSspELB"
      }
    },
    {
      "cell_type": "code",
      "source": [
        "import numpy as np\n",
        "array  = np.arange(1.0,8.0)\n",
        "tensor_ =torch.from_numpy(array)"
      ],
      "metadata": {
        "id": "f-WbAFgDpR80"
      },
      "execution_count": 29,
      "outputs": []
    },
    {
      "cell_type": "markdown",
      "source": [
        "##Reproducibility\n",
        "####Trying to take out random out of random\n",
        "'Start with random numbers - > performs tensor operations -> update random numbers to make them better representation of the data -> again '\n",
        "\n",
        "\n",
        "#### but Randomization is also a problem, and to reduce it in neural network and pytorch their comes a concept of **random seed**\n",
        "\n",
        "In torch it is called **manual seed**"
      ],
      "metadata": {
        "id": "yH-WAhrCusxD"
      }
    },
    {
      "cell_type": "code",
      "source": [
        "import torch\n",
        "\n",
        "RANDOM_SEED = 42\n",
        "torch.manual_seed(RANDOM_SEED)\n",
        "random_seed_tensor1 = torch.rand(size=(3,4))\n",
        "\n",
        "#To make sure that tensor is random with the seed you need to put this manual_seed line above\n",
        "torch.manual_seed(RANDOM_SEED)\n",
        "random_seed_tensor2 = torch.rand(size=(3,4))\n",
        "print(random_seed_tensor1)\n",
        "print(random_seed_tensor2)\n",
        "print(random_seed_tensor1 == random_seed_tensor2)"
      ],
      "metadata": {
        "colab": {
          "base_uri": "https://localhost:8080/"
        },
        "id": "IdiuHBAgzNrF",
        "outputId": "6d03ad8d-9152-4bf0-a1f2-a1ddfcdd3f70"
      },
      "execution_count": 36,
      "outputs": [
        {
          "output_type": "stream",
          "name": "stdout",
          "text": [
            "tensor([[0.8823, 0.9150, 0.3829, 0.9593],\n",
            "        [0.3904, 0.6009, 0.2566, 0.7936],\n",
            "        [0.9408, 0.1332, 0.9346, 0.5936]])\n",
            "tensor([[0.8823, 0.9150, 0.3829, 0.9593],\n",
            "        [0.3904, 0.6009, 0.2566, 0.7936],\n",
            "        [0.9408, 0.1332, 0.9346, 0.5936]])\n",
            "tensor([[True, True, True, True],\n",
            "        [True, True, True, True],\n",
            "        [True, True, True, True]])\n"
          ]
        }
      ]
    },
    {
      "cell_type": "markdown",
      "source": [
        "## Running Tensors and pytorch objects on GPUs\n",
        "\n"
      ],
      "metadata": {
        "id": "e37AwcyX-4ZV"
      }
    },
    {
      "cell_type": "markdown",
      "source": [
        "### 1. Getting a GPU\n",
        "\n",
        "1 - Use google collab pro\n",
        "2 - Use your own\n",
        "3 - Use cloud computing - GCP AWS or AZURE\n",
        "for 2 and 3 takes little bit of setup > for that you can go to pytorch.org"
      ],
      "metadata": {
        "id": "ih-ZPU7FHsDG"
      }
    },
    {
      "cell_type": "code",
      "source": [
        "#2. Some device agnostic code below\n",
        "import torch\n",
        "torch.cuda.is_available()"
      ],
      "metadata": {
        "colab": {
          "base_uri": "https://localhost:8080/"
        },
        "id": "-221bo1xJCV2",
        "outputId": "7a0acb9f-2598-4e13-df83-dfe547ae17a8"
      },
      "execution_count": 42,
      "outputs": [
        {
          "output_type": "execute_result",
          "data": {
            "text/plain": [
              "False"
            ]
          },
          "metadata": {},
          "execution_count": 42
        }
      ]
    },
    {
      "cell_type": "code",
      "source": [
        "device = \"cude\" if torch.cuda.is_available() else \"cpu\"\n",
        "device"
      ],
      "metadata": {
        "colab": {
          "base_uri": "https://localhost:8080/",
          "height": 36
        },
        "id": "IiLqeIjKJwgr",
        "outputId": "81295137-6226-4a8e-b4f0-d0ea21a22940"
      },
      "execution_count": 43,
      "outputs": [
        {
          "output_type": "execute_result",
          "data": {
            "text/plain": [
              "'cpu'"
            ],
            "application/vnd.google.colaboratory.intrinsic+json": {
              "type": "string"
            }
          },
          "metadata": {},
          "execution_count": 43
        }
      ]
    },
    {
      "cell_type": "code",
      "source": [
        "torch.cuda.device_count()"
      ],
      "metadata": {
        "colab": {
          "base_uri": "https://localhost:8080/"
        },
        "id": "b_zrRA-OJ8hj",
        "outputId": "c86117c9-291d-42b1-e5d5-7c6e42515985"
      },
      "execution_count": 44,
      "outputs": [
        {
          "output_type": "execute_result",
          "data": {
            "text/plain": [
              "0"
            ]
          },
          "metadata": {},
          "execution_count": 44
        }
      ]
    },
    {
      "cell_type": "markdown",
      "source": [
        "## 3. putting tensors and models on GPU"
      ],
      "metadata": {
        "id": "MZ0daTfXKcRb"
      }
    },
    {
      "cell_type": "code",
      "source": [
        "tensor = torch.tensor([1,2,3])\n",
        "print(tensor , device)"
      ],
      "metadata": {
        "colab": {
          "base_uri": "https://localhost:8080/"
        },
        "id": "lafTdc_hLDzF",
        "outputId": "1b8d0702-5f17-450e-a7be-de844ddb88f5"
      },
      "execution_count": 46,
      "outputs": [
        {
          "output_type": "stream",
          "name": "stdout",
          "text": [
            "tensor([1, 2, 3]) cpu\n"
          ]
        }
      ]
    },
    {
      "cell_type": "code",
      "source": [
        "#Move tensor to GPU if avilable\n",
        "#you can make a device of GPU\n",
        "tensor_to_gpu = tensor.to(device)\n",
        "tensor_to_gpu"
      ],
      "metadata": {
        "colab": {
          "base_uri": "https://localhost:8080/"
        },
        "id": "OS-w6uehLPNn",
        "outputId": "e4fbbd23-1d37-4ca4-dd28-80f1806229da"
      },
      "execution_count": 48,
      "outputs": [
        {
          "output_type": "execute_result",
          "data": {
            "text/plain": [
              "tensor([1, 2, 3])"
            ]
          },
          "metadata": {},
          "execution_count": 48
        }
      ]
    },
    {
      "cell_type": "code",
      "source": [
        "#4. Moving Tensors back to CPU\n",
        "#also when tensors in GPU you cannot change tensor to Numpy\n",
        "tensor_back_on_cpu = tensor_to_gpu.cpu()\n",
        "tensor_back_on_cpu.numpy()\n",
        "\n",
        "\n"
      ],
      "metadata": {
        "colab": {
          "base_uri": "https://localhost:8080/"
        },
        "id": "oQAIkJfILpnw",
        "outputId": "f62deb7c-2d04-4410-f927-bf414daeffe8"
      },
      "execution_count": 52,
      "outputs": [
        {
          "output_type": "execute_result",
          "data": {
            "text/plain": [
              "array([1, 2, 3])"
            ]
          },
          "metadata": {},
          "execution_count": 52
        }
      ]
    },
    {
      "cell_type": "code",
      "source": [],
      "metadata": {
        "id": "ypdZo2YkMQTr"
      },
      "execution_count": null,
      "outputs": []
    }
  ]
}